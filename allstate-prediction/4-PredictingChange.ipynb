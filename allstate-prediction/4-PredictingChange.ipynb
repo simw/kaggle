{
 "metadata": {
  "name": "",
  "signature": "sha256:ea758df429abf8ac7891757273326700b7f47948af39ab41e06955ac675b9867"
 },
 "nbformat": 3,
 "nbformat_minor": 0,
 "worksheets": [
  {
   "cells": [
    {
     "cell_type": "markdown",
     "metadata": {},
     "source": [
      "#### Standard preamble"
     ]
    },
    {
     "cell_type": "code",
     "collapsed": false,
     "input": [
      "from __future__ import division\n",
      "from __future__ import print_function\n",
      "from __future__ import unicode_literals\n",
      "\n",
      "import sys\n",
      "from datetime import datetime\n",
      "\n",
      "import numpy as np\n",
      "import pandas as pd\n",
      "\n",
      "%matplotlib inline\n",
      "import matplotlib.pyplot as plt\n",
      "\n",
      "import IPython\n",
      "from IPython import display\n",
      "\n",
      "print('Python version {0}'.format(sys.version))\n",
      "print('IPython version {0}'.format(IPython.__version__))\n",
      "print('Pandas version {0}'.format(pd.__version__))\n",
      "print('Time = {0}'.format(datetime.now()))"
     ],
     "language": "python",
     "metadata": {},
     "outputs": [
      {
       "output_type": "stream",
       "stream": "stdout",
       "text": [
        "Python version 2.7.6 (default, Mar 22 2014, 22:59:56) \n",
        "[GCC 4.8.2]\n",
        "IPython version 2.2.0\n",
        "Pandas version 0.15.1\n",
        "Time = 2014-11-18 10:07:24.932573\n"
       ]
      }
     ],
     "prompt_number": 1
    },
    {
     "cell_type": "markdown",
     "metadata": {},
     "source": [
      "### Import data"
     ]
    },
    {
     "cell_type": "code",
     "collapsed": false,
     "input": [
      "cwd = '/home/simon/Programming/data/kaggle/allstate-prediction'\n",
      "train_data_all = pd.read_csv(cwd + '/data/train.csv')\n",
      "print('Training rows = {0}'.format(train_data_all.count()[0]))"
     ],
     "language": "python",
     "metadata": {},
     "outputs": [
      {
       "output_type": "stream",
       "stream": "stdout",
       "text": [
        "Training rows = 665249\n"
       ]
      }
     ],
     "prompt_number": 2
    },
    {
     "cell_type": "markdown",
     "metadata": {},
     "source": [
      "### Transform data to desired format"
     ]
    },
    {
     "cell_type": "markdown",
     "metadata": {},
     "source": [
      "#### First, fill NAs and remove columns"
     ]
    },
    {
     "cell_type": "code",
     "collapsed": false,
     "input": [
      "cols = ['A', 'B', 'C', 'D', 'E', 'F', 'G']\n",
      "conv = '1000000*A + 100000*B + 10000*C + 1000*D + 100*E + 10*F + 1*G'\n",
      "\n",
      "buyers = train_data_all[train_data_all['record_type'] == 1][['customer_ID'] + cols]\n",
      "buyers.eval('purchased_plan = ' + conv)\n",
      "buyers = buyers.drop(cols, axis=1)\n",
      "train_data_formatted = pd.merge(train_data_all, buyers, on='customer_ID', how='left')\n",
      "\n",
      "train_data_formatted.eval('current_plan = ' + conv)\n",
      "train_data_formatted.eval('will_change = (current_plan != purchased_plan)')\n",
      "\n",
      "# Fill empty risk_factor with the average value, assume if duration_previous is NaN, should be 0\n",
      "train_data_formatted = train_data_formatted.fillna(\n",
      "    value={'risk_factor': train_data_formatted['risk_factor'].mean(), 'duration_previous': 0})\n",
      "\n",
      "# For null car_value, fill with value from final purchase (which isn't null in this dataset)\n",
      "# As the dataset is ordered, can just do backfill\n",
      "train_data_formatted['car_value'] = train_data_formatted['car_value'].fillna(method='bfill')\n",
      "\n",
      "\n",
      "train_data_formatted = train_data_formatted.drop(['customer_ID', 'record_type', 'day', 'time', 'state', 'location', 'C_previous'], axis=1)\n",
      "\n",
      "train_data_formatted[pd.isnull(train_data_formatted).any(1)].head(1)"
     ],
     "language": "python",
     "metadata": {},
     "outputs": [
      {
       "html": [
        "<div style=\"max-height:1000px;max-width:1500px;overflow:auto;\">\n",
        "<table border=\"1\" class=\"dataframe\">\n",
        "  <thead>\n",
        "    <tr style=\"text-align: right;\">\n",
        "      <th></th>\n",
        "      <th>shopping_pt</th>\n",
        "      <th>group_size</th>\n",
        "      <th>homeowner</th>\n",
        "      <th>car_age</th>\n",
        "      <th>car_value</th>\n",
        "      <th>risk_factor</th>\n",
        "      <th>age_oldest</th>\n",
        "      <th>age_youngest</th>\n",
        "      <th>married_couple</th>\n",
        "      <th>duration_previous</th>\n",
        "      <th>...</th>\n",
        "      <th>B</th>\n",
        "      <th>C</th>\n",
        "      <th>D</th>\n",
        "      <th>E</th>\n",
        "      <th>F</th>\n",
        "      <th>G</th>\n",
        "      <th>cost</th>\n",
        "      <th>purchased_plan</th>\n",
        "      <th>current_plan</th>\n",
        "      <th>will_change</th>\n",
        "    </tr>\n",
        "  </thead>\n",
        "  <tbody>\n",
        "  </tbody>\n",
        "</table>\n",
        "<p>0 rows \u00d7 21 columns</p>\n",
        "</div>"
       ],
       "metadata": {},
       "output_type": "pyout",
       "prompt_number": 38,
       "text": [
        "Empty DataFrame\n",
        "Columns: [shopping_pt, group_size, homeowner, car_age, car_value, risk_factor, age_oldest, age_youngest, married_couple, duration_previous, A, B, C, D, E, F, G, cost, purchased_plan, current_plan, will_change]\n",
        "Index: []\n",
        "\n",
        "[0 rows x 21 columns]"
       ]
      }
     ],
     "prompt_number": 38
    },
    {
     "cell_type": "markdown",
     "metadata": {},
     "source": [
      "#### Now encode non-numeric columns as numbers"
     ]
    },
    {
     "cell_type": "code",
     "collapsed": false,
     "input": [
      "from sklearn.preprocessing import LabelEncoder\n",
      "\n",
      "# Convert the text column 'car_value' into a number (assumes that the ordering a -> i is meaningful)\n",
      "car_value_le = LabelEncoder()\n",
      "train_data_formatted['car_value'] = car_value_le.fit_transform(train_data_formatted['car_value'])\n",
      "print(car_value_le.classes_)\n",
      "\n",
      "plan_le = LabelEncoder()\n",
      "plan_le.fit(train_data_formatted['current_plan'])\n",
      "print(plan_le.classes_)\n",
      "\n",
      "train_data_formatted['current_plan'] = plan_le.transform(train_data_formatted['current_plan'])\n",
      "train_data_formatted['purchased_plan'] = plan_le.transform(train_data_formatted['purchased_plan'])"
     ],
     "language": "python",
     "metadata": {},
     "outputs": [
      {
       "output_type": "stream",
       "stream": "stdout",
       "text": [
        "['a' 'b' 'c' 'd' 'e' 'f' 'g' 'h' 'i']\n",
        "[  11001   11002   11003 ..., 2143132 2143133 2143134]\n"
       ]
      }
     ],
     "prompt_number": 39
    },
    {
     "cell_type": "code",
     "collapsed": false,
     "input": [
      "train_data_formatted.dtypes"
     ],
     "language": "python",
     "metadata": {},
     "outputs": [
      {
       "metadata": {},
       "output_type": "pyout",
       "prompt_number": 40,
       "text": [
        "shopping_pt            int64\n",
        "group_size             int64\n",
        "homeowner              int64\n",
        "car_age                int64\n",
        "car_value              int64\n",
        "risk_factor          float64\n",
        "age_oldest             int64\n",
        "age_youngest           int64\n",
        "married_couple         int64\n",
        "duration_previous    float64\n",
        "A                      int64\n",
        "B                      int64\n",
        "C                      int64\n",
        "D                      int64\n",
        "E                      int64\n",
        "F                      int64\n",
        "G                      int64\n",
        "cost                   int64\n",
        "purchased_plan         int64\n",
        "current_plan           int64\n",
        "will_change             bool\n",
        "dtype: object"
       ]
      }
     ],
     "prompt_number": 40
    },
    {
     "cell_type": "markdown",
     "metadata": {},
     "source": [
      "### Split data into features & labels"
     ]
    },
    {
     "cell_type": "code",
     "collapsed": false,
     "input": [
      "train_data_wc = train_data_formatted.drop(['current_plan', 'purchased_plan', 'will_change'], axis=1)\n",
      "target_data_wc = train_data_formatted[['will_change']]\n",
      "\n",
      "plan_data = train_data_formatted[train_data_formatted['will_change'] == True]\n",
      "train_data_plan = plan_data.drop(['current_plan', 'purchased_plan', 'will_change'], axis=1)\n",
      "target_data_plan = plan_data[['purchased_plan']]\n",
      "\n",
      "print(train_data_wc.shape)\n",
      "print(train_data_plan.shape)"
     ],
     "language": "python",
     "metadata": {},
     "outputs": [
      {
       "output_type": "stream",
       "stream": "stdout",
       "text": [
        "(665249, 18)\n",
        "(278856, 18)\n"
       ]
      }
     ],
     "prompt_number": 41
    },
    {
     "cell_type": "markdown",
     "metadata": {},
     "source": [
      "#### Fit ML algo to data"
     ]
    },
    {
     "cell_type": "code",
     "collapsed": false,
     "input": [
      "from sklearn.naive_bayes import GaussianNB\n",
      "from sklearn.tree import DecisionTreeClassifier\n",
      "from sklearn.ensemble import RandomForestClassifier\n",
      "from sklearn.neighbors import KNeighborsClassifier\n",
      "from sklearn.svm import SVC\n",
      "\n",
      "from sklearn.cross_validation import train_test_split\n",
      "\n",
      "from sklearn.metrics import accuracy_score, classification_report, confusion_matrix"
     ],
     "language": "python",
     "metadata": {},
     "outputs": [],
     "prompt_number": 65
    },
    {
     "cell_type": "markdown",
     "metadata": {},
     "source": [
      "#### Predicting whether the customer will change their choice"
     ]
    },
    {
     "cell_type": "code",
     "collapsed": false,
     "input": [
      "n = target_data_wc.count()[0]\n",
      "r = 0.66"
     ],
     "language": "python",
     "metadata": {},
     "outputs": [],
     "prompt_number": 81
    },
    {
     "cell_type": "code",
     "collapsed": false,
     "input": [
      "# x_train, x_test, y_train, y_test = train_test_split(train_data_wc.values, target_data_wc.values.ravel())\n",
      "x_train = train_data_wc.head(int(n*r)).values\n",
      "x_test = train_data_wc.tail(int(n*(1-r))).values\n",
      "y_train = target_data_wc.head(int(n*r)).values.ravel()\n",
      "y_test = target_data_wc.tail(int(n*(1-r))).values.ravel()\n",
      "\n",
      "print('Training data = {0}, test data = {1}'.format(x_train.shape, x_test.shape))\n",
      "print('Training target = {0}, test target = {1}'.format(y_train.shape, y_test.shape))"
     ],
     "language": "python",
     "metadata": {},
     "outputs": [
      {
       "output_type": "stream",
       "stream": "stdout",
       "text": [
        "Training data = (439064, 18), test data = (226184, 18)\n",
        "Training target = (439064,), test target = (226184,)\n"
       ]
      }
     ],
     "prompt_number": 82
    },
    {
     "cell_type": "code",
     "collapsed": false,
     "input": [
      "names = [\n",
      "    'Decision Tree', \n",
      "    'Random Forest', \n",
      "    'K Nearest Neighbours'\n",
      "]\n",
      "clfs = [\n",
      "    DecisionTreeClassifier(max_depth=10), \n",
      "    RandomForestClassifier(max_depth=10),\n",
      "    KNeighborsClassifier(3),\n",
      "]\n",
      "\n",
      "for name, clf in zip(names, clfs):\n",
      "    clf.fit(x_train, y_train)\n",
      "    predicted = clf.predict(x_test)\n",
      "    print('{0} = {1:.1%}'.format(name, accuracy_score(predicted, y_test)))\n",
      "    print(classification_report(predicted, y_test))\n",
      "    print(confusion_matrix(predicted, y_test))\n",
      "    print('')"
     ],
     "language": "python",
     "metadata": {},
     "outputs": [
      {
       "output_type": "stream",
       "stream": "stdout",
       "text": [
        "Decision Tree = 70.8%\n",
        "             precision    recall  f1-score   support\n",
        "\n",
        "      False       0.85      0.70      0.77    158865\n",
        "       True       0.51      0.72      0.59     67319\n",
        "\n",
        "avg / total       0.75      0.71      0.72    226184\n"
       ]
      },
      {
       "output_type": "stream",
       "stream": "stdout",
       "text": [
        "\n",
        "[[111952  46913]\n",
        " [ 19077  48242]]"
       ]
      },
      {
       "output_type": "stream",
       "stream": "stdout",
       "text": [
        "\n",
        "\n",
        "Random Forest = 70.9%"
       ]
      },
      {
       "output_type": "stream",
       "stream": "stdout",
       "text": [
        "\n",
        "             precision    recall  f1-score   support\n",
        "\n",
        "      False       0.86      0.70      0.77    160070\n",
        "       True       0.50      0.72      0.59     66114\n",
        "\n",
        "avg / total       0.75      0.71      0.72    226184\n",
        "\n",
        "[[112601  47469]\n",
        " [ 18428  47686]]"
       ]
      },
      {
       "output_type": "stream",
       "stream": "stdout",
       "text": [
        "\n",
        "\n",
        "K Nearest Neighbours = 61.3%"
       ]
      },
      {
       "output_type": "stream",
       "stream": "stdout",
       "text": [
        "\n",
        "             precision    recall  f1-score   support\n",
        "\n",
        "      False       0.68      0.66      0.67    134201\n",
        "       True       0.52      0.54      0.53     91983\n",
        "\n",
        "avg / total       0.62      0.61      0.61    226184\n"
       ]
      },
      {
       "output_type": "stream",
       "stream": "stdout",
       "text": [
        "\n",
        "[[88855 45346]\n",
        " [42174 49809]]"
       ]
      },
      {
       "output_type": "stream",
       "stream": "stdout",
       "text": [
        "\n",
        "\n"
       ]
      }
     ],
     "prompt_number": 83
    },
    {
     "cell_type": "code",
     "collapsed": false,
     "input": [
      "for i in range(1,4,1):\n",
      "    clf = KNeighborsClassifier(i)\n",
      "    clf.fit(x_train, y_train)\n",
      "    predicted = clf.predict(x_test)\n",
      "    print('kNN, k={0}, accuracy = {1:.1%}'.format(i, accuracy_score(predicted, y_test)))"
     ],
     "language": "python",
     "metadata": {},
     "outputs": [
      {
       "output_type": "stream",
       "stream": "stdout",
       "text": [
        "kNN, k=1, accuracy = 59.8%\n",
        "kNN, k=2, accuracy = 61.4%"
       ]
      },
      {
       "output_type": "stream",
       "stream": "stdout",
       "text": [
        "\n",
        "kNN, k=3, accuracy = 61.3%"
       ]
      },
      {
       "output_type": "stream",
       "stream": "stdout",
       "text": [
        "\n"
       ]
      }
     ],
     "prompt_number": 84
    },
    {
     "cell_type": "code",
     "collapsed": false,
     "input": [
      "for i in range(5,20,3):\n",
      "    clf = DecisionTreeClassifier(max_depth=i)\n",
      "    clf.fit(x_train, y_train)\n",
      "    predicted = clf.predict(x_test)\n",
      "    print('Decision Tree, max_depth={0}, accuracy = {1:.1%}'.format(i, accuracy_score(predicted, y_test)))"
     ],
     "language": "python",
     "metadata": {},
     "outputs": [
      {
       "output_type": "stream",
       "stream": "stdout",
       "text": [
        "Decision Tree, max_depth=5, accuracy = 70.4%\n",
        "Decision Tree, max_depth=8, accuracy = 70.6%"
       ]
      },
      {
       "output_type": "stream",
       "stream": "stdout",
       "text": [
        "\n",
        "Decision Tree, max_depth=11, accuracy = 70.7%"
       ]
      },
      {
       "output_type": "stream",
       "stream": "stdout",
       "text": [
        "\n",
        "Decision Tree, max_depth=14, accuracy = 69.9%"
       ]
      },
      {
       "output_type": "stream",
       "stream": "stdout",
       "text": [
        "\n",
        "Decision Tree, max_depth=17, accuracy = 68.4%"
       ]
      },
      {
       "output_type": "stream",
       "stream": "stdout",
       "text": [
        "\n"
       ]
      }
     ],
     "prompt_number": 85
    },
    {
     "cell_type": "code",
     "collapsed": false,
     "input": [
      "# clf_wc = DecisionTreeClassifier(max_depth=10)\n",
      "clf_wc = KNeighborsClassifier(3)\n",
      "clf_wc.fit(x_train, y_train)"
     ],
     "language": "python",
     "metadata": {},
     "outputs": [
      {
       "metadata": {},
       "output_type": "pyout",
       "prompt_number": 86,
       "text": [
        "KNeighborsClassifier(algorithm='auto', leaf_size=30, metric='minkowski',\n",
        "           metric_params=None, n_neighbors=3, p=2, weights='uniform')"
       ]
      }
     ],
     "prompt_number": 86
    },
    {
     "cell_type": "markdown",
     "metadata": {},
     "source": [
      "#### Predicting the changes, given that the customer is changing"
     ]
    },
    {
     "cell_type": "code",
     "collapsed": false,
     "input": [
      "#n = 100000\n",
      "#train_subset = train_data_plan.head(n)\n",
      "#target_plan_subset = target_data_plan.head(n)\n",
      "train_subset = train_data_plan\n",
      "target_plan_subset = target_data_plan\n",
      "\n",
      "x_train_plan, x_test_plan, y_train_plan, y_test_plan = train_test_split(\n",
      "            train_subset.values, target_plan_subset.values.ravel())"
     ],
     "language": "python",
     "metadata": {},
     "outputs": [],
     "prompt_number": 45
    },
    {
     "cell_type": "code",
     "collapsed": false,
     "input": [
      "for i in range(1, 10):\n",
      "    clf = KNeighborsClassifier(i)\n",
      "    clf.fit(x_train_plan, y_train_plan)\n",
      "    print('{0} = {1:.1%}'.format(i, clf.score(x_test_plan, y_test_plan)))"
     ],
     "language": "python",
     "metadata": {},
     "outputs": [
      {
       "output_type": "stream",
       "stream": "stdout",
       "text": [
        "1 = 49.2%\n",
        "2 = 37.3%"
       ]
      },
      {
       "output_type": "stream",
       "stream": "stdout",
       "text": [
        "\n",
        "3 = 32.2%"
       ]
      },
      {
       "output_type": "stream",
       "stream": "stdout",
       "text": [
        "\n",
        "4 = 28.6%"
       ]
      },
      {
       "output_type": "stream",
       "stream": "stdout",
       "text": [
        "\n",
        "5 = 26.0%"
       ]
      },
      {
       "output_type": "stream",
       "stream": "stdout",
       "text": [
        "\n",
        "6 = 23.9%"
       ]
      },
      {
       "output_type": "stream",
       "stream": "stdout",
       "text": [
        "\n",
        "7 = 22.2%"
       ]
      },
      {
       "output_type": "stream",
       "stream": "stdout",
       "text": [
        "\n",
        "8 = 21.0%"
       ]
      },
      {
       "output_type": "stream",
       "stream": "stdout",
       "text": [
        "\n",
        "9 = 19.7%"
       ]
      },
      {
       "output_type": "stream",
       "stream": "stdout",
       "text": [
        "\n"
       ]
      }
     ],
     "prompt_number": 70
    },
    {
     "cell_type": "code",
     "collapsed": false,
     "input": [
      "names = [\n",
      "    'Decision Tree', \n",
      "    'Random Forest', \n",
      "    'K Nearest Neighbours'\n",
      "]\n",
      "clfs = [\n",
      "    DecisionTreeClassifier(max_depth=10), \n",
      "    RandomForestClassifier(max_depth=10),\n",
      "    KNeighborsClassifier(1),\n",
      "]\n",
      "\n",
      "for name, clf in zip(names, clfs):\n",
      "    clf.fit(x_train_plan, y_train_plan)\n",
      "    print('{0} = {1:.1%}'.format(name, clf.score(x_test_plan, y_test_plan)))\n"
     ],
     "language": "python",
     "metadata": {},
     "outputs": [
      {
       "output_type": "stream",
       "stream": "stdout",
       "text": [
        "Decision Tree = 13.3%\n",
        "Random Forest = 20.4%"
       ]
      },
      {
       "output_type": "stream",
       "stream": "stdout",
       "text": [
        "\n",
        "K Nearest Neighbours = 49.2%"
       ]
      },
      {
       "output_type": "stream",
       "stream": "stdout",
       "text": [
        "\n"
       ]
      }
     ],
     "prompt_number": 71
    },
    {
     "cell_type": "code",
     "collapsed": false,
     "input": [
      "# clf_plan = DecisionTreeClassifier(max_depth=10)\n",
      "clf_plan = KNeighborsClassifier(1)\n",
      "clf_plan.fit(x_train_plan, y_train_plan)"
     ],
     "language": "python",
     "metadata": {},
     "outputs": [
      {
       "metadata": {},
       "output_type": "pyout",
       "prompt_number": 87,
       "text": [
        "KNeighborsClassifier(algorithm='auto', leaf_size=30, metric='minkowski',\n",
        "           metric_params=None, n_neighbors=1, p=2, weights='uniform')"
       ]
      }
     ],
     "prompt_number": 87
    },
    {
     "cell_type": "markdown",
     "metadata": {},
     "source": [
      "### Now use classifiers to predict the test data"
     ]
    },
    {
     "cell_type": "code",
     "collapsed": false,
     "input": [
      "cwd = '/home/simon/Programming/data/kaggle/allstate-prediction'\n",
      "test_data = pd.read_csv(cwd + '/data/test_v2.csv')\n",
      "print('Test rows = {0}'.format(test_data.count()[0]))"
     ],
     "language": "python",
     "metadata": {},
     "outputs": [
      {
       "output_type": "stream",
       "stream": "stdout",
       "text": [
        "Test rows = 198856\n"
       ]
      }
     ],
     "prompt_number": 88
    },
    {
     "cell_type": "code",
     "collapsed": false,
     "input": [
      "conv = '1000000*A + 100000*B + 10000*C + 1000*D + 100*E + 10*F + 1*G'\n",
      "\n",
      "this_test_data = test_data\n",
      "\n",
      "# Fill empty risk_factor with the average value, assume if duration_previous is NaN, should be 0\n",
      "this_test_data = this_test_data.fillna(\n",
      "    value={'risk_factor': train_data_all['risk_factor'].mean(), 'duration_previous': 0})\n",
      "\n",
      "# For null car_value, fill with value from final purchase (which isn't null in this dataset)\n",
      "# As the dataset is ordered, can just do backfill\n",
      "this_test_data['car_value'] = this_test_data['car_value'].fillna(method='bfill')\n",
      "\n",
      "this_test_data['car_value'] = car_value_le.transform(this_test_data['car_value'])\n",
      "\n",
      "row_filter = this_test_data[['customer_ID', 'shopping_pt']].groupby('customer_ID').max().reset_index()\n",
      "last_visit = pd.merge(this_test_data, row_filter, on=['customer_ID', 'shopping_pt'], how='right')\n",
      "last_visit.eval('current_plan = ' + conv)\n",
      "\n",
      "predictions = last_visit[['customer_ID', 'current_plan']]\n",
      "last_visit = last_visit[train_data_wc.columns]"
     ],
     "language": "python",
     "metadata": {},
     "outputs": [],
     "prompt_number": 89
    },
    {
     "cell_type": "code",
     "collapsed": false,
     "input": [
      "predictions['will_change'] = clf_wc.predict(last_visit)\n",
      "predictions['change_to'] = plan_le.inverse_transform(clf_plan.predict(last_visit))\n",
      "predictions.eval('plan = will_change*change_to + (1-will_change)*current_plan')\n",
      "# predictions.eval('plan = current_plan')\n",
      "\n",
      "predictions['plan'] = predictions['plan'].map(lambda x: '{:07}'.format(x))"
     ],
     "language": "python",
     "metadata": {},
     "outputs": [],
     "prompt_number": 90
    },
    {
     "cell_type": "code",
     "collapsed": false,
     "input": [
      "print(\"Will change = {0:.1%}\".format((predictions['will_change'] == True).sum() / predictions['will_change'].count()))\n",
      "predictions.head(20)"
     ],
     "language": "python",
     "metadata": {},
     "outputs": [
      {
       "output_type": "stream",
       "stream": "stdout",
       "text": [
        "Will change = 44.3%\n"
       ]
      },
      {
       "html": [
        "<div style=\"max-height:1000px;max-width:1500px;overflow:auto;\">\n",
        "<table border=\"1\" class=\"dataframe\">\n",
        "  <thead>\n",
        "    <tr style=\"text-align: right;\">\n",
        "      <th></th>\n",
        "      <th>customer_ID</th>\n",
        "      <th>current_plan</th>\n",
        "      <th>will_change</th>\n",
        "      <th>change_to</th>\n",
        "      <th>plan</th>\n",
        "    </tr>\n",
        "  </thead>\n",
        "  <tbody>\n",
        "    <tr>\n",
        "      <th>0 </th>\n",
        "      <td> 10000001</td>\n",
        "      <td> 2113132</td>\n",
        "      <td> False</td>\n",
        "      <td> 1122022</td>\n",
        "      <td> 2113132</td>\n",
        "    </tr>\n",
        "    <tr>\n",
        "      <th>1 </th>\n",
        "      <td> 10000002</td>\n",
        "      <td> 2023122</td>\n",
        "      <td>  True</td>\n",
        "      <td> 2111131</td>\n",
        "      <td> 2111131</td>\n",
        "    </tr>\n",
        "    <tr>\n",
        "      <th>2 </th>\n",
        "      <td> 10000003</td>\n",
        "      <td> 1021022</td>\n",
        "      <td>  True</td>\n",
        "      <td> 1022013</td>\n",
        "      <td> 1022013</td>\n",
        "    </tr>\n",
        "    <tr>\n",
        "      <th>3 </th>\n",
        "      <td> 10000004</td>\n",
        "      <td> 2011123</td>\n",
        "      <td> False</td>\n",
        "      <td>   13002</td>\n",
        "      <td> 2011123</td>\n",
        "    </tr>\n",
        "    <tr>\n",
        "      <th>4 </th>\n",
        "      <td> 10000006</td>\n",
        "      <td>   11001</td>\n",
        "      <td>  True</td>\n",
        "      <td> 1033123</td>\n",
        "      <td> 1033123</td>\n",
        "    </tr>\n",
        "    <tr>\n",
        "      <th>5 </th>\n",
        "      <td> 10000008</td>\n",
        "      <td>   13023</td>\n",
        "      <td> False</td>\n",
        "      <td> 1033023</td>\n",
        "      <td> 0013023</td>\n",
        "    </tr>\n",
        "    <tr>\n",
        "      <th>6 </th>\n",
        "      <td> 10000009</td>\n",
        "      <td>  112002</td>\n",
        "      <td>  True</td>\n",
        "      <td> 1011101</td>\n",
        "      <td> 1011101</td>\n",
        "    </tr>\n",
        "    <tr>\n",
        "      <th>7 </th>\n",
        "      <td> 10000010</td>\n",
        "      <td> 1012012</td>\n",
        "      <td>  True</td>\n",
        "      <td> 1133122</td>\n",
        "      <td> 1133122</td>\n",
        "    </tr>\n",
        "    <tr>\n",
        "      <th>8 </th>\n",
        "      <td> 10000011</td>\n",
        "      <td> 1033022</td>\n",
        "      <td>  True</td>\n",
        "      <td> 1133112</td>\n",
        "      <td> 1133112</td>\n",
        "    </tr>\n",
        "    <tr>\n",
        "      <th>9 </th>\n",
        "      <td> 10000012</td>\n",
        "      <td> 2023033</td>\n",
        "      <td>  True</td>\n",
        "      <td> 1012011</td>\n",
        "      <td> 1012011</td>\n",
        "    </tr>\n",
        "    <tr>\n",
        "      <th>10</th>\n",
        "      <td> 10000015</td>\n",
        "      <td> 1133102</td>\n",
        "      <td> False</td>\n",
        "      <td> 2143102</td>\n",
        "      <td> 1133102</td>\n",
        "    </tr>\n",
        "    <tr>\n",
        "      <th>11</th>\n",
        "      <td> 10000017</td>\n",
        "      <td> 1133111</td>\n",
        "      <td>  True</td>\n",
        "      <td> 1022011</td>\n",
        "      <td> 1022011</td>\n",
        "    </tr>\n",
        "    <tr>\n",
        "      <th>12</th>\n",
        "      <td> 10000018</td>\n",
        "      <td> 1133111</td>\n",
        "      <td> False</td>\n",
        "      <td> 1043102</td>\n",
        "      <td> 1133111</td>\n",
        "    </tr>\n",
        "    <tr>\n",
        "      <th>13</th>\n",
        "      <td> 10000020</td>\n",
        "      <td>  123022</td>\n",
        "      <td> False</td>\n",
        "      <td> 1132012</td>\n",
        "      <td> 0123022</td>\n",
        "    </tr>\n",
        "    <tr>\n",
        "      <th>14</th>\n",
        "      <td> 10000021</td>\n",
        "      <td>  113012</td>\n",
        "      <td> False</td>\n",
        "      <td> 1043113</td>\n",
        "      <td> 0113012</td>\n",
        "    </tr>\n",
        "    <tr>\n",
        "      <th>15</th>\n",
        "      <td> 10000022</td>\n",
        "      <td> 1143113</td>\n",
        "      <td> False</td>\n",
        "      <td> 2043012</td>\n",
        "      <td> 1143113</td>\n",
        "    </tr>\n",
        "    <tr>\n",
        "      <th>16</th>\n",
        "      <td> 10000024</td>\n",
        "      <td>   11002</td>\n",
        "      <td>  True</td>\n",
        "      <td> 1022012</td>\n",
        "      <td> 1022012</td>\n",
        "    </tr>\n",
        "    <tr>\n",
        "      <th>17</th>\n",
        "      <td> 10000029</td>\n",
        "      <td>   33002</td>\n",
        "      <td>  True</td>\n",
        "      <td> 1033023</td>\n",
        "      <td> 1033023</td>\n",
        "    </tr>\n",
        "    <tr>\n",
        "      <th>18</th>\n",
        "      <td> 10000030</td>\n",
        "      <td>   11001</td>\n",
        "      <td> False</td>\n",
        "      <td> 1112022</td>\n",
        "      <td> 0011001</td>\n",
        "    </tr>\n",
        "    <tr>\n",
        "      <th>19</th>\n",
        "      <td> 10000035</td>\n",
        "      <td> 1113123</td>\n",
        "      <td>  True</td>\n",
        "      <td> 1133022</td>\n",
        "      <td> 1133022</td>\n",
        "    </tr>\n",
        "  </tbody>\n",
        "</table>\n",
        "</div>"
       ],
       "metadata": {},
       "output_type": "pyout",
       "prompt_number": 91,
       "text": [
        "    customer_ID  current_plan will_change  change_to     plan\n",
        "0      10000001       2113132       False    1122022  2113132\n",
        "1      10000002       2023122        True    2111131  2111131\n",
        "2      10000003       1021022        True    1022013  1022013\n",
        "3      10000004       2011123       False      13002  2011123\n",
        "4      10000006         11001        True    1033123  1033123\n",
        "5      10000008         13023       False    1033023  0013023\n",
        "6      10000009        112002        True    1011101  1011101\n",
        "7      10000010       1012012        True    1133122  1133122\n",
        "8      10000011       1033022        True    1133112  1133112\n",
        "9      10000012       2023033        True    1012011  1012011\n",
        "10     10000015       1133102       False    2143102  1133102\n",
        "11     10000017       1133111        True    1022011  1022011\n",
        "12     10000018       1133111       False    1043102  1133111\n",
        "13     10000020        123022       False    1132012  0123022\n",
        "14     10000021        113012       False    1043113  0113012\n",
        "15     10000022       1143113       False    2043012  1143113\n",
        "16     10000024         11002        True    1022012  1022012\n",
        "17     10000029         33002        True    1033023  1033023\n",
        "18     10000030         11001       False    1112022  0011001\n",
        "19     10000035       1113123        True    1133022  1133022"
       ]
      }
     ],
     "prompt_number": 91
    },
    {
     "cell_type": "code",
     "collapsed": false,
     "input": [
      "predictions[['customer_ID', 'plan']].to_csv('./predictions/prediction_3.csv', index=False)"
     ],
     "language": "python",
     "metadata": {},
     "outputs": [],
     "prompt_number": 92
    },
    {
     "cell_type": "code",
     "collapsed": false,
     "input": [],
     "language": "python",
     "metadata": {},
     "outputs": []
    }
   ],
   "metadata": {}
  }
 ]
}