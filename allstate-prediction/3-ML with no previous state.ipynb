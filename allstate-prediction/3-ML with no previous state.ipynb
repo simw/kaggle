{
 "metadata": {
  "name": "",
  "signature": "sha256:5c93fc1134e7c4d9d177e4688254231afe0f1a3f759ccc2eb2d4a426af21e9ec"
 },
 "nbformat": 3,
 "nbformat_minor": 0,
 "worksheets": [
  {
   "cells": [
    {
     "cell_type": "markdown",
     "metadata": {},
     "source": [
      "##### Standard preamble"
     ]
    },
    {
     "cell_type": "code",
     "collapsed": false,
     "input": [
      "from __future__ import division\n",
      "from __future__ import print_function\n",
      "from __future__ import unicode_literals\n",
      "\n",
      "import sys\n",
      "from datetime import datetime\n",
      "\n",
      "import numpy as np\n",
      "import pandas as pd\n",
      "\n",
      "%matplotlib inline\n",
      "import matplotlib.pyplot as plt\n",
      "\n",
      "import IPython\n",
      "from IPython import display\n",
      "\n",
      "print('Python version {0}'.format(sys.version))\n",
      "print('IPython version {0}'.format(IPython.__version__))\n",
      "print('Pandas version {0}'.format(pd.__version__))\n",
      "print('Time = {0}'.format(datetime.now()))"
     ],
     "language": "python",
     "metadata": {},
     "outputs": [
      {
       "output_type": "stream",
       "stream": "stdout",
       "text": [
        "Python version 2.7.6 (default, Mar 22 2014, 22:59:56) \n",
        "[GCC 4.8.2]\n",
        "IPython version 2.2.0\n",
        "Pandas version 0.15.1\n",
        "Time = 2014-11-17 11:15:35.492124\n"
       ]
      }
     ],
     "prompt_number": 1
    },
    {
     "cell_type": "markdown",
     "metadata": {},
     "source": [
      "### Import the data"
     ]
    },
    {
     "cell_type": "code",
     "collapsed": false,
     "input": [
      "cwd = '/home/simon/Programming/data/kaggle/allstate-prediction'\n",
      "train_data_all = pd.read_csv(cwd + '/data/train.csv')\n",
      "print('Training rows = {0}'.format(train_data_all.count()[0]))"
     ],
     "language": "python",
     "metadata": {},
     "outputs": [
      {
       "output_type": "stream",
       "stream": "stdout",
       "text": [
        "Training rows = 665249\n"
       ]
      }
     ],
     "prompt_number": 2
    },
    {
     "cell_type": "markdown",
     "metadata": {},
     "source": [
      "### Add a column for the final purchase that the customer makes"
     ]
    },
    {
     "cell_type": "code",
     "collapsed": false,
     "input": [
      "cols = ['A', 'B', 'C', 'D', 'E', 'F', 'G']\n",
      "\n",
      "def formatter(row):\n",
      "    return ''.join([str(row[col]) for col in cols])\n",
      "\n",
      "buyers = train_data_all[train_data_all['record_type'] == 1][['customer_ID'] + cols]\n",
      "buyers['purchased_plan'] = buyers.apply(formatter, axis=1)\n",
      "buyers = buyers.drop(cols, axis=1)\n",
      "\n",
      "train_data_new = pd.merge(train_data_all, buyers, on='customer_ID', how='left')"
     ],
     "language": "python",
     "metadata": {},
     "outputs": [],
     "prompt_number": 3
    },
    {
     "cell_type": "markdown",
     "metadata": {},
     "source": [
      "#### Split into data and target / features and labels"
     ]
    },
    {
     "cell_type": "code",
     "collapsed": false,
     "input": [
      "target_cols = ['purchased_plan']\n",
      "train_target = train_data_new[target_cols]\n",
      "train_data = train_data_new.drop(target_cols, axis=1)\n",
      "\n",
      "print('Training data: {0}'.format(train_data.shape))\n",
      "print(train_data.dtypes)\n",
      "print('')\n",
      "print('Target: {0}'.format(train_target.shape))\n",
      "print(train_target.dtypes)"
     ],
     "language": "python",
     "metadata": {},
     "outputs": [
      {
       "output_type": "stream",
       "stream": "stdout",
       "text": [
        "Training data: (665249, 25)\n",
        "customer_ID            int64\n",
        "shopping_pt            int64\n",
        "record_type            int64\n",
        "day                    int64\n",
        "time                  object\n",
        "state                 object\n",
        "location               int64\n",
        "group_size             int64\n",
        "homeowner              int64\n",
        "car_age                int64\n",
        "car_value             object\n",
        "risk_factor          float64\n",
        "age_oldest             int64\n",
        "age_youngest           int64\n",
        "married_couple         int64\n",
        "C_previous           float64\n",
        "duration_previous    float64\n",
        "A                      int64\n",
        "B                      int64\n",
        "C                      int64\n",
        "D                      int64\n",
        "E                      int64\n",
        "F                      int64\n",
        "G                      int64\n",
        "cost                   int64\n",
        "dtype: object\n",
        "\n",
        "Target: (665249, 1)\n",
        "purchased_plan    object\n",
        "dtype: object\n"
       ]
      }
     ],
     "prompt_number": 4
    },
    {
     "cell_type": "markdown",
     "metadata": {},
     "source": [
      "#### Maniupulate data into better format, remove data we don't want (zip code, state)"
     ]
    },
    {
     "cell_type": "code",
     "collapsed": false,
     "input": [
      "from sklearn.preprocessing import LabelEncoder"
     ],
     "language": "python",
     "metadata": {},
     "outputs": [],
     "prompt_number": 5
    },
    {
     "cell_type": "code",
     "collapsed": false,
     "input": [
      "this_train_data = train_data\n",
      "this_train_target = train_target\n",
      "\n",
      "# Fill empty risk_factor with the average value, assume if duration_previous is NaN, should be 0\n",
      "this_train_data = this_train_data.fillna(\n",
      "    value={'risk_factor': this_train_data['risk_factor'].mean(), 'duration_previous': 0})\n",
      "\n",
      "# For null car_value, fill with value from final purchase (which isn't null in this dataset)\n",
      "# As the dataset is ordered, can just do backfill\n",
      "this_train_data['car_value'] = this_train_data['car_value'].fillna(method='bfill')\n",
      "\n",
      "# Remove columns that we don't want to use\n",
      "this_train_data = this_train_data.drop(['customer_ID', 'record_type', 'day', 'time', \n",
      "                                        'state', 'location', 'C_previous'], axis=1)\n",
      "\n",
      "this_train_data[pd.isnull(this_train_data).any(1)]"
     ],
     "language": "python",
     "metadata": {},
     "outputs": [
      {
       "html": [
        "<div style=\"max-height:1000px;max-width:1500px;overflow:auto;\">\n",
        "<table border=\"1\" class=\"dataframe\">\n",
        "  <thead>\n",
        "    <tr style=\"text-align: right;\">\n",
        "      <th></th>\n",
        "      <th>shopping_pt</th>\n",
        "      <th>group_size</th>\n",
        "      <th>homeowner</th>\n",
        "      <th>car_age</th>\n",
        "      <th>car_value</th>\n",
        "      <th>risk_factor</th>\n",
        "      <th>age_oldest</th>\n",
        "      <th>age_youngest</th>\n",
        "      <th>married_couple</th>\n",
        "      <th>duration_previous</th>\n",
        "      <th>A</th>\n",
        "      <th>B</th>\n",
        "      <th>C</th>\n",
        "      <th>D</th>\n",
        "      <th>E</th>\n",
        "      <th>F</th>\n",
        "      <th>G</th>\n",
        "      <th>cost</th>\n",
        "    </tr>\n",
        "  </thead>\n",
        "  <tbody>\n",
        "  </tbody>\n",
        "</table>\n",
        "</div>"
       ],
       "metadata": {},
       "output_type": "pyout",
       "prompt_number": 6,
       "text": [
        "Empty DataFrame\n",
        "Columns: [shopping_pt, group_size, homeowner, car_age, car_value, risk_factor, age_oldest, age_youngest, married_couple, duration_previous, A, B, C, D, E, F, G, cost]\n",
        "Index: []"
       ]
      }
     ],
     "prompt_number": 6
    },
    {
     "cell_type": "code",
     "collapsed": false,
     "input": [
      "# Convert the text column 'car_value' into a number (assumes that the ordering a -> i is meaningful)\n",
      "car_value_le = LabelEncoder()\n",
      "this_train_data['car_value'] = car_value_le.fit_transform(this_train_data['car_value'])\n",
      "print(car_value_le.classes_)"
     ],
     "language": "python",
     "metadata": {},
     "outputs": [
      {
       "output_type": "stream",
       "stream": "stdout",
       "text": [
        "['a' 'b' 'c' 'd' 'e' 'f' 'g' 'h' 'i']\n"
       ]
      }
     ],
     "prompt_number": 7
    },
    {
     "cell_type": "markdown",
     "metadata": {},
     "source": [
      "#### Lastly, put target data into sequential numeric categories"
     ]
    },
    {
     "cell_type": "code",
     "collapsed": false,
     "input": [
      "target_le = LabelEncoder()\n",
      "this_train_target['purchased_plan'] = target_le.fit_transform(this_train_target).ravel()\n",
      "print(target_le.classes_)"
     ],
     "language": "python",
     "metadata": {},
     "outputs": [
      {
       "output_type": "stream",
       "stream": "stderr",
       "text": [
        "/home/simon/Programming/generalassembly/env-ga-python-2.7/local/lib/python2.7/site-packages/sklearn/preprocessing/label.py:125: DataConversionWarning: A column-vector y was passed when a 1d array was expected. Please change the shape of y to (n_samples, ), for example using ravel().\n",
        "  y = column_or_1d(y, warn=True)\n",
        "-c:2: SettingWithCopyWarning: \n",
        "A value is trying to be set on a copy of a slice from a DataFrame.\n",
        "Try using .loc[row_indexer,col_indexer] = value instead\n",
        "\n",
        "See the the caveats in the documentation: http://pandas.pydata.org/pandas-docs/stable/indexing.html#indexing-view-versus-copy\n"
       ]
      },
      {
       "output_type": "stream",
       "stream": "stdout",
       "text": [
        "[u'0011001' u'0011002' u'0011003' ..., u'2143132' u'2143133' u'2143134']\n"
       ]
      }
     ],
     "prompt_number": 8
    },
    {
     "cell_type": "code",
     "collapsed": false,
     "input": [
      "print('Training data: {0}'.format(this_train_data.shape))\n",
      "print(this_train_data.dtypes)\n",
      "print('')\n",
      "print('Target: {0}'.format(this_train_target.shape))\n",
      "print(this_train_target.dtypes)"
     ],
     "language": "python",
     "metadata": {},
     "outputs": [
      {
       "output_type": "stream",
       "stream": "stdout",
       "text": [
        "Training data: (665249, 18)\n",
        "shopping_pt            int64\n",
        "group_size             int64\n",
        "homeowner              int64\n",
        "car_age                int64\n",
        "car_value              int64\n",
        "risk_factor          float64\n",
        "age_oldest             int64\n",
        "age_youngest           int64\n",
        "married_couple         int64\n",
        "duration_previous    float64\n",
        "A                      int64\n",
        "B                      int64\n",
        "C                      int64\n",
        "D                      int64\n",
        "E                      int64\n",
        "F                      int64\n",
        "G                      int64\n",
        "cost                   int64\n",
        "dtype: object\n",
        "\n",
        "Target: (665249, 1)\n",
        "purchased_plan    int64\n",
        "dtype: object\n"
       ]
      }
     ],
     "prompt_number": 9
    },
    {
     "cell_type": "markdown",
     "metadata": {},
     "source": [
      "### Now try predicting all columns at once"
     ]
    },
    {
     "cell_type": "code",
     "collapsed": false,
     "input": [
      "from sklearn.naive_bayes import GaussianNB\n",
      "from sklearn.tree import DecisionTreeClassifier\n",
      "from sklearn.ensemble import RandomForestClassifier\n",
      "from sklearn.neighbors import KNeighborsClassifier\n",
      "from sklearn.svm import SVC\n",
      "\n",
      "from sklearn.cross_validation import train_test_split"
     ],
     "language": "python",
     "metadata": {},
     "outputs": [],
     "prompt_number": 10
    },
    {
     "cell_type": "code",
     "collapsed": false,
     "input": [
      "this_train_small, train_train_large, this_target_small, this_target_large = train_test_split(\n",
      "    this_train_data.values, this_train_target.values.ravel(), train_size=0.1)\n",
      "\n",
      "x_train, x_test, y_train, y_test = train_test_split(this_train_small, this_target_small, train_size=0.25)\n",
      "print('Training data = {0}, test data = {1}'.format(x_train.shape, x_test.shape))\n",
      "print('Training target = {0}, test target = {1}'.format(y_train.shape, y_test.shape))"
     ],
     "language": "python",
     "metadata": {},
     "outputs": [
      {
       "output_type": "stream",
       "stream": "stdout",
       "text": [
        "Training data = (16631, 18), test data = (49893, 18)\n",
        "Training target = (16631,), test target = (49893,)\n"
       ]
      }
     ],
     "prompt_number": 11
    },
    {
     "cell_type": "code",
     "collapsed": false,
     "input": [
      "names = ['Gaussian Naive Bayes', 'Decision Tree', 'Random Forest', 'K Nearest Neighbours', 'Support Vector Machines']\n",
      "clfs = [\n",
      "    GaussianNB(), \n",
      "    DecisionTreeClassifier(max_depth=5), \n",
      "    RandomForestClassifier(max_depth=5, n_estimators=10, max_features=1),\n",
      "    #KNeighborsClassifier(3),\n",
      "    # SVC()\n",
      "]\n",
      "\n",
      "for name, clf in zip(names, clfs):\n",
      "    clf.fit(x_train, y_train)\n",
      "    print('{0} = {1:.1%}'.format(name, clf.score(x_test, y_test)))"
     ],
     "language": "python",
     "metadata": {},
     "outputs": [
      {
       "output_type": "stream",
       "stream": "stdout",
       "text": [
        "Gaussian Naive Bayes = 3.1%\n",
        "Decision Tree = 18.3%"
       ]
      },
      {
       "output_type": "stream",
       "stream": "stdout",
       "text": [
        "\n",
        "Random Forest = 9.8%"
       ]
      },
      {
       "output_type": "stream",
       "stream": "stdout",
       "text": [
        "\n"
       ]
      }
     ],
     "prompt_number": 12
    },
    {
     "cell_type": "code",
     "collapsed": false,
     "input": [],
     "language": "python",
     "metadata": {},
     "outputs": []
    }
   ],
   "metadata": {}
  }
 ]
}