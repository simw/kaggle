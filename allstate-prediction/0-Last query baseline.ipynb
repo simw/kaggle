{
 "metadata": {
  "name": "",
  "signature": "sha256:707e4e1e4ee051601e1972a9978fd974ff2bdc9d43eb4d31bfbb816f76bc1d24"
 },
 "nbformat": 3,
 "nbformat_minor": 0,
 "worksheets": [
  {
   "cells": [
    {
     "cell_type": "markdown",
     "metadata": {},
     "source": [
      "Standard preamble"
     ]
    },
    {
     "cell_type": "code",
     "collapsed": false,
     "input": [
      "from __future__ import division\n",
      "from __future__ import print_function\n",
      "from __future__ import unicode_literals\n",
      "\n",
      "import sys\n",
      "from datetime import datetime\n",
      "\n",
      "import numpy as np\n",
      "import pandas as pd\n",
      "\n",
      "%matplotlib inline\n",
      "import matplotlib.pyplot as plt\n",
      "\n",
      "import IPython\n",
      "from IPython import display\n",
      "\n",
      "print('Python version {0}'.format(sys.version))\n",
      "print('IPython version {0}'.format(IPython.__version__))\n",
      "print('Pandas version {0}'.format(pd.__version__))\n",
      "print('Time = {0}'.format(datetime.now()))"
     ],
     "language": "python",
     "metadata": {},
     "outputs": [
      {
       "output_type": "stream",
       "stream": "stdout",
       "text": [
        "Python version 2.7.6 (default, Mar 22 2014, 22:59:56) \n",
        "[GCC 4.8.2]\n",
        "IPython version 2.2.0\n",
        "Pandas version 0.15.1\n",
        "Time = 2014-11-17 09:11:37.408319\n"
       ]
      }
     ],
     "prompt_number": 1
    },
    {
     "cell_type": "markdown",
     "metadata": {},
     "source": [
      "### Import the data"
     ]
    },
    {
     "cell_type": "code",
     "collapsed": false,
     "input": [
      "cwd = '/home/simon/Programming/data/kaggle/allstate-prediction'\n",
      "test_data = pd.read_csv(cwd + '/data/test_v2.csv')\n",
      "print('Test rows = {0}'.format(test_data.count()[0]))"
     ],
     "language": "python",
     "metadata": {},
     "outputs": [
      {
       "output_type": "stream",
       "stream": "stdout",
       "text": [
        "Test rows = 198856\n"
       ]
      }
     ],
     "prompt_number": 2
    },
    {
     "cell_type": "code",
     "collapsed": false,
     "input": [
      "test_data.columns"
     ],
     "language": "python",
     "metadata": {},
     "outputs": [
      {
       "metadata": {},
       "output_type": "pyout",
       "prompt_number": 3,
       "text": [
        "Index([u'customer_ID', u'shopping_pt', u'record_type', u'day', u'time', u'state', u'location', u'group_size', u'homeowner', u'car_age', u'car_value', u'risk_factor', u'age_oldest', u'age_youngest', u'married_couple', u'C_previous', u'duration_previous', u'A', u'B', u'C', u'D', u'E', u'F', u'G', u'cost'], dtype='object')"
       ]
      }
     ],
     "prompt_number": 3
    },
    {
     "cell_type": "markdown",
     "metadata": {},
     "source": [
      "### Filter for the last touch point for that customer"
     ]
    },
    {
     "cell_type": "code",
     "collapsed": false,
     "input": [
      "row_filter = test_data[['customer_ID', 'shopping_pt']].groupby('customer_ID').max().reset_index()\n",
      "last_visit = pd.merge(test_data, row_filter, on=['customer_ID', 'shopping_pt'], how='right')"
     ],
     "language": "python",
     "metadata": {},
     "outputs": [],
     "prompt_number": 16
    },
    {
     "cell_type": "code",
     "collapsed": false,
     "input": [
      "cols_predicting = ['A', 'B', 'C', 'D', 'E', 'F', 'G']\n",
      "cols_label = ['customer_ID']\n",
      "\n",
      "def formatter(row):\n",
      "    return ''.join([str(row[col]) for col in cols_predicting])\n",
      "\n",
      "res = last_visit[cols_label + cols_predicting]\n",
      "res['plan'] = ''\n",
      "res.loc[:, 'plan'] = res.apply(formatter, axis=1)\n",
      "res = res.drop(cols_predicting, axis=1)"
     ],
     "language": "python",
     "metadata": {},
     "outputs": [],
     "prompt_number": 34
    },
    {
     "cell_type": "code",
     "collapsed": false,
     "input": [
      "res.head()"
     ],
     "language": "python",
     "metadata": {},
     "outputs": [
      {
       "html": [
        "<div style=\"max-height:1000px;max-width:1500px;overflow:auto;\">\n",
        "<table border=\"1\" class=\"dataframe\">\n",
        "  <thead>\n",
        "    <tr style=\"text-align: right;\">\n",
        "      <th></th>\n",
        "      <th>customer_ID</th>\n",
        "      <th>plan</th>\n",
        "    </tr>\n",
        "  </thead>\n",
        "  <tbody>\n",
        "    <tr>\n",
        "      <th>0</th>\n",
        "      <td> 10000001</td>\n",
        "      <td> 2113132</td>\n",
        "    </tr>\n",
        "    <tr>\n",
        "      <th>1</th>\n",
        "      <td> 10000002</td>\n",
        "      <td> 2023122</td>\n",
        "    </tr>\n",
        "    <tr>\n",
        "      <th>2</th>\n",
        "      <td> 10000003</td>\n",
        "      <td> 1021022</td>\n",
        "    </tr>\n",
        "    <tr>\n",
        "      <th>3</th>\n",
        "      <td> 10000004</td>\n",
        "      <td> 2011123</td>\n",
        "    </tr>\n",
        "    <tr>\n",
        "      <th>4</th>\n",
        "      <td> 10000006</td>\n",
        "      <td> 0011001</td>\n",
        "    </tr>\n",
        "  </tbody>\n",
        "</table>\n",
        "</div>"
       ],
       "metadata": {},
       "output_type": "pyout",
       "prompt_number": 35,
       "text": [
        "   customer_ID     plan\n",
        "0     10000001  2113132\n",
        "1     10000002  2023122\n",
        "2     10000003  1021022\n",
        "3     10000004  2011123\n",
        "4     10000006  0011001"
       ]
      }
     ],
     "prompt_number": 35
    },
    {
     "cell_type": "code",
     "collapsed": false,
     "input": [
      "res.to_csv('./predictions/prediction_1_lasttouch.csv', index=False)"
     ],
     "language": "python",
     "metadata": {},
     "outputs": [],
     "prompt_number": 37
    }
   ],
   "metadata": {}
  }
 ]
}