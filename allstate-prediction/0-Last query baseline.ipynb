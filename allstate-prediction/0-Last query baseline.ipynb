{
 "metadata": {
  "name": "",
  "signature": "sha256:d4d950749b98ba7bc040967b1c17962b4309045df9b5f97b266548e6f6887bf1"
 },
 "nbformat": 3,
 "nbformat_minor": 0,
 "worksheets": [
  {
   "cells": [
    {
     "cell_type": "markdown",
     "metadata": {},
     "source": [
      "Standard preamble"
     ]
    },
    {
     "cell_type": "code",
     "collapsed": false,
     "input": [
      "from __future__ import division\n",
      "from __future__ import print_function\n",
      "from __future__ import unicode_literals\n",
      "\n",
      "import sys\n",
      "from datetime import datetime\n",
      "\n",
      "import numpy as np\n",
      "import pandas as pd\n",
      "\n",
      "%matplotlib inline\n",
      "import matplotlib.pyplot as plt\n",
      "\n",
      "import IPython\n",
      "from IPython import display\n",
      "\n",
      "print('Python version {0}'.format(sys.version))\n",
      "print('IPython version {0}'.format(IPython.__version__))\n",
      "print('Pandas version {0}'.format(pd.__version__))\n",
      "print('Time = {0}'.format(datetime.now()))"
     ],
     "language": "python",
     "metadata": {},
     "outputs": [
      {
       "output_type": "stream",
       "stream": "stdout",
       "text": [
        "Python version 2.7.6 (default, Mar 22 2014, 22:59:56) \n",
        "[GCC 4.8.2]\n",
        "IPython version 2.2.0\n",
        "Pandas version 0.15.1\n",
        "Time = 2014-11-17 14:02:51.809444\n"
       ]
      }
     ],
     "prompt_number": 1
    },
    {
     "cell_type": "markdown",
     "metadata": {},
     "source": [
      "### Import the data"
     ]
    },
    {
     "cell_type": "code",
     "collapsed": false,
     "input": [
      "cwd = '/home/simon/Programming/data/kaggle/allstate-prediction'\n",
      "train_data = pd.read_csv(cwd + '/data/train.csv')\n",
      "test_data = pd.read_csv(cwd + '/data/test_v2.csv')\n",
      "print('Train rows = {0}'.format(train_data.count()[0]))\n",
      "print('Test rows = {0}'.format(test_data.count()[0]))"
     ],
     "language": "python",
     "metadata": {},
     "outputs": [
      {
       "output_type": "stream",
       "stream": "stdout",
       "text": [
        "Train rows = 665249\n",
        "Test rows = 198856"
       ]
      },
      {
       "output_type": "stream",
       "stream": "stdout",
       "text": [
        "\n"
       ]
      }
     ],
     "prompt_number": 2
    },
    {
     "cell_type": "code",
     "collapsed": false,
     "input": [
      "print(train_data.columns)\n",
      "print(test_data.columns)"
     ],
     "language": "python",
     "metadata": {},
     "outputs": [
      {
       "output_type": "stream",
       "stream": "stdout",
       "text": [
        "Index([u'customer_ID', u'shopping_pt', u'record_type', u'day', u'time', u'state', u'location', u'group_size', u'homeowner', u'car_age', u'car_value', u'risk_factor', u'age_oldest', u'age_youngest', u'married_couple', u'C_previous', u'duration_previous', u'A', u'B', u'C', u'D', u'E', u'F', u'G', u'cost'], dtype='object')\n",
        "Index([u'customer_ID', u'shopping_pt', u'record_type', u'day', u'time', u'state', u'location', u'group_size', u'homeowner', u'car_age', u'car_value', u'risk_factor', u'age_oldest', u'age_youngest', u'married_couple', u'C_previous', u'duration_previous', u'A', u'B', u'C', u'D', u'E', u'F', u'G', u'cost'], dtype='object')\n"
       ]
      }
     ],
     "prompt_number": 3
    },
    {
     "cell_type": "markdown",
     "metadata": {},
     "source": [
      "### Filter for the last touch point for that customer"
     ]
    },
    {
     "cell_type": "markdown",
     "metadata": {},
     "source": [
      "#### Train data"
     ]
    },
    {
     "cell_type": "code",
     "collapsed": false,
     "input": [
      "cols = ['A', 'B', 'C', 'D', 'E', 'F', 'G']\n",
      "\n",
      "def formatter(row):\n",
      "    return ''.join([str(row[col]) for col in cols])\n",
      "\n",
      "buyers = train_data[train_data['record_type'] == 1][['customer_ID'] + cols]\n",
      "buyers['purchased_plan'] = buyers.apply(formatter, axis=1)\n",
      "buyers = buyers.drop(cols, axis=1)\n",
      "\n",
      "train_data_new = pd.merge(train_data, buyers, on='customer_ID', how='left')\n",
      "train_data_new['predicted_plan'] = train_data_new.apply(formatter, axis=1)\n",
      "train_data_new = train_data_new[['customer_ID', 'shopping_pt','predicted_plan', 'purchased_plan']]"
     ],
     "language": "python",
     "metadata": {},
     "outputs": [],
     "prompt_number": 4
    },
    {
     "cell_type": "code",
     "collapsed": false,
     "input": [
      "(train_data_new['purchased_plan'] == train_data_new['predicted_plan']).sum() / train_data_new.count()[0]"
     ],
     "language": "python",
     "metadata": {},
     "outputs": [
      {
       "metadata": {},
       "output_type": "pyout",
       "prompt_number": 6,
       "text": [
        "0.58082462356200459"
       ]
      }
     ],
     "prompt_number": 6
    },
    {
     "cell_type": "markdown",
     "metadata": {},
     "source": [
      "#### Test data"
     ]
    },
    {
     "cell_type": "code",
     "collapsed": false,
     "input": [
      "row_filter = test_data[['customer_ID', 'shopping_pt']].groupby('customer_ID').max().reset_index()\n",
      "last_visit = pd.merge(test_data, row_filter, on=['customer_ID', 'shopping_pt'], how='right')"
     ],
     "language": "python",
     "metadata": {},
     "outputs": []
    },
    {
     "cell_type": "code",
     "collapsed": false,
     "input": [
      "cols_predicting = ['A', 'B', 'C', 'D', 'E', 'F', 'G']\n",
      "cols_label = ['customer_ID']\n",
      "\n",
      "def formatter(row):\n",
      "    return ''.join([str(row[col]) for col in cols_predicting])\n",
      "\n",
      "res = last_visit[cols_label + cols_predicting]\n",
      "res['plan'] = ''\n",
      "res.loc[:, 'plan'] = res.apply(formatter, axis=1)\n",
      "res = res.drop(cols_predicting, axis=1)"
     ],
     "language": "python",
     "metadata": {},
     "outputs": [],
     "prompt_number": 34
    },
    {
     "cell_type": "code",
     "collapsed": false,
     "input": [
      "res.head()"
     ],
     "language": "python",
     "metadata": {},
     "outputs": [
      {
       "html": [
        "<div style=\"max-height:1000px;max-width:1500px;overflow:auto;\">\n",
        "<table border=\"1\" class=\"dataframe\">\n",
        "  <thead>\n",
        "    <tr style=\"text-align: right;\">\n",
        "      <th></th>\n",
        "      <th>customer_ID</th>\n",
        "      <th>plan</th>\n",
        "    </tr>\n",
        "  </thead>\n",
        "  <tbody>\n",
        "    <tr>\n",
        "      <th>0</th>\n",
        "      <td> 10000001</td>\n",
        "      <td> 2113132</td>\n",
        "    </tr>\n",
        "    <tr>\n",
        "      <th>1</th>\n",
        "      <td> 10000002</td>\n",
        "      <td> 2023122</td>\n",
        "    </tr>\n",
        "    <tr>\n",
        "      <th>2</th>\n",
        "      <td> 10000003</td>\n",
        "      <td> 1021022</td>\n",
        "    </tr>\n",
        "    <tr>\n",
        "      <th>3</th>\n",
        "      <td> 10000004</td>\n",
        "      <td> 2011123</td>\n",
        "    </tr>\n",
        "    <tr>\n",
        "      <th>4</th>\n",
        "      <td> 10000006</td>\n",
        "      <td> 0011001</td>\n",
        "    </tr>\n",
        "  </tbody>\n",
        "</table>\n",
        "</div>"
       ],
       "metadata": {},
       "output_type": "pyout",
       "prompt_number": 35,
       "text": [
        "   customer_ID     plan\n",
        "0     10000001  2113132\n",
        "1     10000002  2023122\n",
        "2     10000003  1021022\n",
        "3     10000004  2011123\n",
        "4     10000006  0011001"
       ]
      }
     ],
     "prompt_number": 35
    },
    {
     "cell_type": "code",
     "collapsed": false,
     "input": [
      "res.to_csv('./predictions/prediction_1_lasttouch.csv', index=False)"
     ],
     "language": "python",
     "metadata": {},
     "outputs": [],
     "prompt_number": 37
    }
   ],
   "metadata": {}
  }
 ]
}