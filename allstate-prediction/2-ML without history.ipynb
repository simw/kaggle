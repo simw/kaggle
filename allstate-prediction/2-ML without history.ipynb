{
 "metadata": {
  "name": "",
  "signature": "sha256:ff71e17b2a77b070e1900ebeaa796429e2a37da592c3fedd90f97d3eb49aa747"
 },
 "nbformat": 3,
 "nbformat_minor": 0,
 "worksheets": [
  {
   "cells": [
    {
     "cell_type": "markdown",
     "metadata": {},
     "source": [
      "##### Standard preamble"
     ]
    },
    {
     "cell_type": "code",
     "collapsed": false,
     "input": [
      "from __future__ import division\n",
      "from __future__ import print_function\n",
      "from __future__ import unicode_literals\n",
      "\n",
      "import sys\n",
      "from datetime import datetime\n",
      "\n",
      "import numpy as np\n",
      "import pandas as pd\n",
      "\n",
      "%matplotlib inline\n",
      "import matplotlib.pyplot as plt\n",
      "\n",
      "import IPython\n",
      "from IPython import display\n",
      "\n",
      "print('Python version {0}'.format(sys.version))\n",
      "print('IPython version {0}'.format(IPython.__version__))\n",
      "print('Pandas version {0}'.format(pd.__version__))\n",
      "print('Time = {0}'.format(datetime.now()))"
     ],
     "language": "python",
     "metadata": {},
     "outputs": [
      {
       "output_type": "stream",
       "stream": "stdout",
       "text": [
        "Python version 2.7.6 (default, Mar 22 2014, 22:59:56) \n",
        "[GCC 4.8.2]\n",
        "IPython version 2.2.0\n",
        "Pandas version 0.15.1\n",
        "Time = 2014-11-14 10:52:00.005586\n"
       ]
      }
     ],
     "prompt_number": 1
    },
    {
     "cell_type": "markdown",
     "metadata": {},
     "source": [
      "### Import the data"
     ]
    },
    {
     "cell_type": "code",
     "collapsed": false,
     "input": [
      "cwd = '/home/simon/Programming/data/kaggle/allstate-prediction'\n",
      "train_data_all = pd.read_csv(cwd + '/data/train.csv')\n",
      "print('Training rows = {0}'.format(train_data_all.count()[0]))"
     ],
     "language": "python",
     "metadata": {},
     "outputs": [
      {
       "output_type": "stream",
       "stream": "stdout",
       "text": [
        "Training rows = 665249\n"
       ]
      }
     ],
     "prompt_number": 10
    },
    {
     "cell_type": "code",
     "collapsed": false,
     "input": [
      "train_data_all.columns"
     ],
     "language": "python",
     "metadata": {},
     "outputs": [
      {
       "metadata": {},
       "output_type": "pyout",
       "prompt_number": 11,
       "text": [
        "Index([u'customer_ID', u'shopping_pt', u'record_type', u'day', u'time', u'state', u'location', u'group_size', u'homeowner', u'car_age', u'car_value', u'risk_factor', u'age_oldest', u'age_youngest', u'married_couple', u'C_previous', u'duration_previous', u'A', u'B', u'C', u'D', u'E', u'F', u'G', u'cost'], dtype='object')"
       ]
      }
     ],
     "prompt_number": 11
    },
    {
     "cell_type": "code",
     "collapsed": false,
     "input": [
      "target_cols = ['A', 'B', 'C', 'D', 'E', 'F', 'G']\n",
      "train_target = train_data_all[target_cols]\n",
      "train_data = train_data_all.drop(target_cols, axis=1)"
     ],
     "language": "python",
     "metadata": {},
     "outputs": [],
     "prompt_number": 12
    },
    {
     "cell_type": "code",
     "collapsed": false,
     "input": [
      "print(train_data.dtypes)\n",
      "print(train_target.dtypes)"
     ],
     "language": "python",
     "metadata": {},
     "outputs": [
      {
       "output_type": "stream",
       "stream": "stdout",
       "text": [
        "customer_ID            int64\n",
        "shopping_pt            int64\n",
        "record_type            int64\n",
        "day                    int64\n",
        "time                  object\n",
        "state                 object\n",
        "location               int64\n",
        "group_size             int64\n",
        "homeowner              int64\n",
        "car_age                int64\n",
        "car_value             object\n",
        "risk_factor          float64\n",
        "age_oldest             int64\n",
        "age_youngest           int64\n",
        "married_couple         int64\n",
        "C_previous           float64\n",
        "duration_previous    float64\n",
        "cost                   int64\n",
        "dtype: object\n",
        "A    int64\n",
        "B    int64\n",
        "C    int64\n",
        "D    int64\n",
        "E    int64\n",
        "F    int64\n",
        "G    int64\n",
        "dtype: object\n"
       ]
      }
     ],
     "prompt_number": 19
    },
    {
     "cell_type": "markdown",
     "metadata": {},
     "source": [
      "## Version 1: ignore viewing history, assume purchase has no previous state"
     ]
    },
    {
     "cell_type": "markdown",
     "metadata": {},
     "source": [
      "#### Ignore state and zip code"
     ]
    },
    {
     "cell_type": "code",
     "collapsed": false,
     "input": [
      "from sklearn.naive_bayes import GaussianNB\n",
      "from sklearn.tree import DecisionTreeClassifier\n",
      "from sklearn.ensemble import RandomForestClassifier\n",
      "from sklearn.neighbors import KNeighborsClassifier\n",
      "from sklearn.svm import SVC\n",
      "\n",
      "from sklearn.cross_validation import train_test_split\n",
      "\n",
      "from sklearn.preprocessing import LabelEncoder"
     ],
     "language": "python",
     "metadata": {},
     "outputs": [],
     "prompt_number": 120
    },
    {
     "cell_type": "code",
     "collapsed": false,
     "input": [
      "# Only look at actual purchases\n",
      "this_train_data = train_data[train_data['record_type'] == 1]\n",
      "this_train_target = train_target[train_data['record_type'] == 1]\n",
      "\n",
      "# Fill empty risk_factor with the average value, assume if duration_previous is NaN, should be 0\n",
      "this_train_data = this_train_data.fillna(\n",
      "    value={'risk_factor': this_train_data['risk_factor'].mean(), 'duration_previous': 0})\n",
      "\n",
      "# Remove columns that we don't want to use\n",
      "this_train_data = this_train_data.drop(['customer_ID', 'shopping_pt', 'record_type', 'day', 'time', \n",
      "                                        'state', 'location', 'C_previous'], axis=1)\n",
      "\n",
      "# Convert the text column 'car_value' into a number (assumes that the ordering a -> i is meaningful)\n",
      "car_value_le = LabelEncoder()\n",
      "this_train_data['car_value'] = car_value_le.fit_transform(this_train_data['car_value'])\n",
      "print(car_value_le.classes_)"
     ],
     "language": "python",
     "metadata": {},
     "outputs": [
      {
       "output_type": "stream",
       "stream": "stdout",
       "text": [
        "['a' 'b' 'c' 'd' 'e' 'f' 'g' 'h' 'i']\n"
       ]
      }
     ],
     "prompt_number": 70
    },
    {
     "cell_type": "code",
     "collapsed": false,
     "input": [
      "this_train_data[pd.isnull(this_train_data).any(1)]"
     ],
     "language": "python",
     "metadata": {},
     "outputs": [
      {
       "html": [
        "<div style=\"max-height:1000px;max-width:1500px;overflow:auto;\">\n",
        "<table border=\"1\" class=\"dataframe\">\n",
        "  <thead>\n",
        "    <tr style=\"text-align: right;\">\n",
        "      <th></th>\n",
        "      <th>group_size</th>\n",
        "      <th>homeowner</th>\n",
        "      <th>car_age</th>\n",
        "      <th>car_value</th>\n",
        "      <th>risk_factor</th>\n",
        "      <th>age_oldest</th>\n",
        "      <th>age_youngest</th>\n",
        "      <th>married_couple</th>\n",
        "      <th>duration_previous</th>\n",
        "      <th>cost</th>\n",
        "    </tr>\n",
        "  </thead>\n",
        "  <tbody>\n",
        "  </tbody>\n",
        "</table>\n",
        "</div>"
       ],
       "metadata": {},
       "output_type": "pyout",
       "prompt_number": 71,
       "text": [
        "Empty DataFrame\n",
        "Columns: [group_size, homeowner, car_age, car_value, risk_factor, age_oldest, age_youngest, married_couple, duration_previous, cost]\n",
        "Index: []"
       ]
      }
     ],
     "prompt_number": 71
    },
    {
     "cell_type": "markdown",
     "metadata": {},
     "source": [
      "### Try predicting just column A"
     ]
    },
    {
     "cell_type": "code",
     "collapsed": false,
     "input": [
      "x_train, x_test, y_train, y_test = train_test_split(this_train_data.values, this_train_target['A'].values.ravel())\n",
      "print('Training data = {0}, test data = {1}'.format(x_train.shape, x_test.shape))\n",
      "print('Training data = {0}, test data = {1}'.format(y_train.shape, y_test.shape))"
     ],
     "language": "python",
     "metadata": {},
     "outputs": []
    },
    {
     "cell_type": "code",
     "collapsed": false,
     "input": [
      "names = ['Gaussian Naive Bayes', 'Decision Tree', 'Random Forest', 'K Nearest Neighbours', 'Support Vector Machines']\n",
      "clfs = [\n",
      "    GaussianNB(), \n",
      "    # DecisionTreeClassifier(max_depth=5), \n",
      "    # RandomForestClassifier(max_depth=5, n_estimators=10, max_features=1),\n",
      "    # KNeighborsClassifier(3),\n",
      "    # SVC()\n",
      "]\n",
      "\n",
      "for name, clf in zip(names, clfs):\n",
      "    clf.fit(x_train, y_train)\n",
      "    print('{0} = {1}'.format(name, clf.score(x_test, y_test)))"
     ],
     "language": "python",
     "metadata": {},
     "outputs": []
    },
    {
     "cell_type": "markdown",
     "metadata": {},
     "source": [
      "### Now try predicting all columns at once"
     ]
    },
    {
     "cell_type": "code",
     "collapsed": false,
     "input": [
      "def formatter(row):\n",
      "    return ''.join([str(i) for i in row.values.ravel().tolist()])\n",
      "\n",
      "le = LabelEncoder()\n",
      "this_train_target_single = this_train_target.apply(formatter, axis=1)\n",
      "this_train_target_single = le.fit_transform(this_train_target_single)\n",
      "print(le.classes_)"
     ],
     "language": "python",
     "metadata": {},
     "outputs": [
      {
       "output_type": "stream",
       "stream": "stdout",
       "text": [
        "[u'0011001' u'0011002' u'0011003' ..., u'2143132' u'2143133' u'2143134']\n"
       ]
      }
     ],
     "prompt_number": 114
    },
    {
     "cell_type": "code",
     "collapsed": false,
     "input": [
      "x_train, x_test, y_train, y_test = train_test_split(this_train_data.values, this_train_target_single)\n",
      "print('Training data = {0}, test data = {1}'.format(x_train.shape, x_test.shape))\n",
      "print('Training data = {0}, test data = {1}'.format(y_train.shape, y_test.shape))"
     ],
     "language": "python",
     "metadata": {},
     "outputs": [
      {
       "output_type": "stream",
       "stream": "stdout",
       "text": [
        "Training data = (72756, 10), test data = (24253, 10)\n",
        "Training data = (72756,), test data = (24253,)\n"
       ]
      }
     ],
     "prompt_number": 115
    },
    {
     "cell_type": "code",
     "collapsed": false,
     "input": [
      "names = ['Gaussian Naive Bayes', 'Decision Tree', 'Random Forest', 'K Nearest Neighbours', 'Support Vector Machines']\n",
      "clfs = [\n",
      "    GaussianNB(), \n",
      "    #DecisionTreeClassifier(max_depth=5), \n",
      "    #RandomForestClassifier(max_depth=5, n_estimators=10, max_features=1),\n",
      "    #KNeighborsClassifier(3),\n",
      "    # SVC()\n",
      "]\n",
      "\n",
      "for name, clf in zip(names, clfs):\n",
      "    clf.fit(x_train, y_train)\n",
      "    print('{0} = {1}'.format(name, clf.score(x_test, y_test)))"
     ],
     "language": "python",
     "metadata": {},
     "outputs": [
      {
       "output_type": "stream",
       "stream": "stdout",
       "text": [
        "Gaussian Naive Bayes = 0.000288624087742\n"
       ]
      }
     ],
     "prompt_number": 116
    },
    {
     "cell_type": "code",
     "collapsed": false,
     "input": [],
     "language": "python",
     "metadata": {},
     "outputs": []
    }
   ],
   "metadata": {}
  }
 ]
}