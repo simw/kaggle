{
 "metadata": {
  "name": "",
  "signature": "sha256:b006ed673fcece07a9e123fc37fade24c93de37aca6e6596fad614c9646cf609"
 },
 "nbformat": 3,
 "nbformat_minor": 0,
 "worksheets": [
  {
   "cells": [
    {
     "cell_type": "markdown",
     "metadata": {},
     "source": [
      "### Standard preamble"
     ]
    },
    {
     "cell_type": "code",
     "collapsed": false,
     "input": [
      "from __future__ import division\n",
      "from __future__ import print_function\n",
      "from __future__ import unicode_literals\n",
      "\n",
      "import sys\n",
      "from datetime import datetime\n",
      "\n",
      "import numpy as np\n",
      "import pandas as pd\n",
      "\n",
      "%matplotlib inline\n",
      "import matplotlib.pyplot as plt\n",
      "\n",
      "import IPython\n",
      "from IPython import display\n",
      "\n",
      "print('Python version {0}'.format(sys.version))\n",
      "print('IPython version {0}'.format(IPython.__version__))\n",
      "print('Numpy version {0}'.format(np.__version__))\n",
      "print('Pandas version {0}'.format(pd.__version__))\n",
      "print('Time = {0}'.format(datetime.now()))"
     ],
     "language": "python",
     "metadata": {},
     "outputs": [
      {
       "output_type": "stream",
       "stream": "stdout",
       "text": [
        "Python version 2.7.6 (default, Mar 22 2014, 22:59:56) \n",
        "[GCC 4.8.2]\n",
        "IPython version 2.2.0\n",
        "Numpy version 1.9.1\n",
        "Pandas version 0.15.1\n",
        "Time = 2014-11-19 14:21:00.100199\n"
       ]
      }
     ],
     "prompt_number": 3
    },
    {
     "cell_type": "markdown",
     "metadata": {},
     "source": [
      "### Import the data"
     ]
    },
    {
     "cell_type": "code",
     "collapsed": false,
     "input": [
      "cwd = '/home/simon/Programming/data/kaggle/digit-recognizer'\n",
      "train_data_all = pd.read_csv(cwd + '/data/train.csv')\n",
      "print('Training data = {0}'.format(train_data_all.shape))"
     ],
     "language": "python",
     "metadata": {},
     "outputs": [
      {
       "output_type": "stream",
       "stream": "stdout",
       "text": [
        "Training data = (42000, 785)\n"
       ]
      }
     ],
     "prompt_number": 4
    },
    {
     "cell_type": "markdown",
     "metadata": {},
     "source": [
      "### Convert to FFT"
     ]
    },
    {
     "cell_type": "code",
     "collapsed": false,
     "input": [
      "from scipy import fftpack"
     ],
     "language": "python",
     "metadata": {},
     "outputs": [],
     "prompt_number": 5
    },
    {
     "cell_type": "code",
     "collapsed": false,
     "input": [
      "target = train_data_all.loc[:, 'label'].values.ravel()\n",
      "data = train_data_all.loc[:, 'pixel0':].values\n",
      "\n",
      "n = np.sqrt(data[0].size)\n",
      "n_digits = target.size\n",
      "digits = np.reshape(data, (n_digits, n, n))\n",
      "\n",
      "for i in range(n_digits):\n",
      "    f1 = fftpack.fft2(digits[i])\n",
      "    f2 = fftpack.fftshift(f1)\n",
      "    psd2d = np.abs(f2)**2\n",
      "    data[i] = np.reshape(psd2d, n*n)\n",
      "    \n",
      "print(data.shape)\n",
      "print(target.shape)"
     ],
     "language": "python",
     "metadata": {},
     "outputs": [
      {
       "output_type": "stream",
       "stream": "stdout",
       "text": [
        "(42000, 784)\n",
        "(42000,)\n"
       ]
      }
     ],
     "prompt_number": 8
    },
    {
     "cell_type": "markdown",
     "metadata": {},
     "source": [
      "### Decompose PCA"
     ]
    },
    {
     "cell_type": "code",
     "collapsed": false,
     "input": [
      "from sklearn.decomposition import RandomizedPCA"
     ],
     "language": "python",
     "metadata": {},
     "outputs": [],
     "prompt_number": 9
    },
    {
     "cell_type": "code",
     "collapsed": false,
     "input": [
      "n = 30\n",
      "\n",
      "pca = RandomizedPCA(n_components=n)\n",
      "proj = pca.fit_transform(data)\n",
      "print('Total = {0:.1%}, components {1}'.format(\n",
      "    pca.explained_variance_ratio_.sum(), pca.explained_variance_ratio_))\n",
      "plt.scatter(proj[:, 0], proj[:, 1], c=target)"
     ],
     "language": "python",
     "metadata": {},
     "outputs": [
      {
       "output_type": "stream",
       "stream": "stdout",
       "text": [
        "Total = 81.8%, components [ 0.25824375  0.1467095   0.05470347  0.0407212   0.03649372  0.02671886\n",
        "  0.02210674  0.02038894  0.01943182  0.01843184  0.01776354  0.01497098\n",
        "  0.01235363  0.01164844  0.01146081  0.01092614  0.01001055  0.00846224\n",
        "  0.00799744  0.00760409  0.00732054  0.00717312  0.00668229  0.00626134\n",
        "  0.00601943  0.00588958  0.00567617  0.00554426  0.00525947  0.00495384]\n"
       ]
      },
      {
       "metadata": {},
       "output_type": "pyout",
       "prompt_number": 10,
       "text": [
        "<matplotlib.collections.PathCollection at 0x7f2ad2cda510>"
       ]
      },
      {
       "metadata": {},
       "output_type": "display_data",
       "png": "[encoded data removed]",
       "text": [
        "<matplotlib.figure.Figure at 0x7f2aef67a410>"
       ]
      }
     ],
     "prompt_number": 10
    },
    {
     "cell_type": "markdown",
     "metadata": {},
     "source": [
      "### Evaluate ML models after PCA"
     ]
    },
    {
     "cell_type": "code",
     "collapsed": false,
     "input": [
      "from sklearn.naive_bayes import GaussianNB\n",
      "from sklearn.tree import DecisionTreeClassifier\n",
      "from sklearn.ensemble import RandomForestClassifier\n",
      "from sklearn.neighbors import KNeighborsClassifier\n",
      "from sklearn.svm import SVC\n",
      "\n",
      "from sklearn.cross_validation import train_test_split\n",
      "\n",
      "from sklearn.metrics import accuracy_score, classification_report, confusion_matrix"
     ],
     "language": "python",
     "metadata": {},
     "outputs": [],
     "prompt_number": 11
    },
    {
     "cell_type": "code",
     "collapsed": false,
     "input": [
      "x_train, x_test, y_train, y_test = train_test_split(proj, target)\n",
      "print('Training data = {0}, test data = {1}'.format(x_train.shape, x_test.shape))\n",
      "print('Training data = {0}, test data = {1}'.format(y_train.shape, y_test.shape))"
     ],
     "language": "python",
     "metadata": {},
     "outputs": [
      {
       "output_type": "stream",
       "stream": "stdout",
       "text": [
        "Training data = (31500, 30), test data = (10500, 30)\n",
        "Training data = (31500,), test data = (10500,)\n"
       ]
      }
     ],
     "prompt_number": 12
    },
    {
     "cell_type": "markdown",
     "metadata": {},
     "source": [
      "#### Try different ML algorithms"
     ]
    },
    {
     "cell_type": "code",
     "collapsed": false,
     "input": [
      "names = [\n",
      "    'Gaussian Naive Bayes', \n",
      "    'Decision Tree', \n",
      "    'Random Forest', \n",
      "    'K Nearest Neighbours', \n",
      "    'Support Vector Machines'\n",
      "]\n",
      "clfs = [\n",
      "    GaussianNB(), \n",
      "    DecisionTreeClassifier(max_depth=5), \n",
      "    RandomForestClassifier(max_depth=5, n_estimators=10, max_features=1),\n",
      "    KNeighborsClassifier(3),\n",
      "    SVC()]\n",
      "\n",
      "for name, clf in zip(names, clfs):\n",
      "    clf.fit(x_train, y_train)    \n",
      "    score = clf.score(x_test, y_test)\n",
      "    print('{0} = {1:.1%}'.format(name, score))"
     ],
     "language": "python",
     "metadata": {},
     "outputs": [
      {
       "output_type": "stream",
       "stream": "stdout",
       "text": [
        "Gaussian Naive Bayes = 30.9%\n",
        "Decision Tree = 40.4%"
       ]
      },
      {
       "output_type": "stream",
       "stream": "stdout",
       "text": [
        "\n",
        "Random Forest = 42.6%"
       ]
      },
      {
       "output_type": "stream",
       "stream": "stdout",
       "text": [
        "\n",
        "K Nearest Neighbours = 79.5%"
       ]
      },
      {
       "output_type": "stream",
       "stream": "stdout",
       "text": [
        "\n",
        "Support Vector Machines = 11.6%"
       ]
      },
      {
       "output_type": "stream",
       "stream": "stdout",
       "text": [
        "\n"
       ]
      }
     ],
     "prompt_number": 13
    },
    {
     "cell_type": "markdown",
     "metadata": {},
     "source": [
      "#### Try different numbers of PCAs for SVM"
     ]
    },
    {
     "cell_type": "code",
     "collapsed": false,
     "input": [
      "x_train, x_test, y_train, y_test = train_test_split(data, target)\n",
      "print('Training data = {0}, test data = {1}'.format(x_train.shape, x_test.shape))\n",
      "print('Training data = {0}, test data = {1}'.format(y_train.shape, y_test.shape))\n",
      "\n",
      "clf = SVC()\n",
      "\n",
      "for n in [10, 20, 30, 40, 50, 100]:\n",
      "    pca = RandomizedPCA(n_components=n)\n",
      "    pca.fit(x_train)\n",
      "    x_train_pca = pca.transform(x_train)\n",
      "    clf.fit(x_train_pca, y_train)\n",
      "    print('{0} = {1:.1%}'.format(n, clf.score(pca.transform(x_test), y_test)))"
     ],
     "language": "python",
     "metadata": {},
     "outputs": [
      {
       "output_type": "stream",
       "stream": "stdout",
       "text": [
        "Training data = (31500, 784), test data = (10500, 784)\n",
        "Training data = (31500,), test data = (10500,)\n",
        "10 = 93.8%"
       ]
      },
      {
       "output_type": "stream",
       "stream": "stdout",
       "text": [
        "\n",
        "20 = 97.6%"
       ]
      },
      {
       "output_type": "stream",
       "stream": "stdout",
       "text": [
        "\n",
        "30 = 98.0%"
       ]
      },
      {
       "output_type": "stream",
       "stream": "stdout",
       "text": [
        "\n",
        "40 = 97.9%"
       ]
      },
      {
       "output_type": "stream",
       "stream": "stdout",
       "text": [
        "\n",
        "50 = 97.9%"
       ]
      },
      {
       "output_type": "stream",
       "stream": "stdout",
       "text": [
        "\n",
        "100 = 97.1%"
       ]
      },
      {
       "output_type": "stream",
       "stream": "stdout",
       "text": [
        "\n"
       ]
      }
     ],
     "prompt_number": 12
    },
    {
     "cell_type": "markdown",
     "metadata": {},
     "source": [
      "#### Try optimising SVM for PCA n = 30"
     ]
    },
    {
     "cell_type": "code",
     "collapsed": false,
     "input": [
      "from sklearn.grid_search import GridSearchCV\n",
      "from sklearn.cross_validation import cross_val_score"
     ],
     "language": "python",
     "metadata": {},
     "outputs": [],
     "prompt_number": 26
    },
    {
     "cell_type": "code",
     "collapsed": false,
     "input": [
      "n = 30\n",
      "pca = RandomizedPCA(n_components = n)\n",
      "data_pca = pca.fit_transform(data)"
     ],
     "language": "python",
     "metadata": {},
     "outputs": [],
     "prompt_number": 24
    },
    {
     "cell_type": "code",
     "collapsed": false,
     "input": [
      "clf = SVC()\n",
      "scores = cross_val_score(clf, data_pca, target)\n",
      "print(scores)"
     ],
     "language": "python",
     "metadata": {},
     "outputs": [
      {
       "output_type": "stream",
       "stream": "stdout",
       "text": [
        "[ 0.97864896  0.97621089  0.97913988]\n"
       ]
      }
     ],
     "prompt_number": 28
    },
    {
     "cell_type": "code",
     "collapsed": false,
     "input": [
      "parameters = {'kernel':(b'linear', b'rbf'), 'C':[1, 10]}\n",
      "svr = SVC()\n",
      "clf = GridSearchCV(svr, parameters)\n",
      "clf.fit(data_pca, target)\n",
      "\n",
      "print(clf.grid_scores_)\n",
      "print(clf.best_estimator_)"
     ],
     "language": "python",
     "metadata": {},
     "outputs": [
      {
       "metadata": {},
       "output_type": "pyout",
       "prompt_number": 30,
       "text": [
        "GridSearchCV(cv=None,\n",
        "       estimator=SVC(C=1.0, cache_size=200, class_weight=None, coef0=0.0, degree=3, gamma=0.0,\n",
        "  kernel='rbf', max_iter=-1, probability=False, random_state=None,\n",
        "  shrinking=True, tol=0.001, verbose=False),\n",
        "       fit_params={}, iid=True, loss_func=None, n_jobs=1,\n",
        "       param_grid={u'kernel': ('linear', 'rbf'), u'C': [1, 10]},\n",
        "       pre_dispatch='2*n_jobs', refit=True, score_func=None, scoring=None,\n",
        "       verbose=0)"
       ]
      }
     ]
    },
    {
     "cell_type": "code",
     "collapsed": false,
     "input": [
      "parameters = [\n",
      "  {'C': [1, 10, 100, 1000], 'kernel': [b'linear']},\n",
      "  {'C': [1, 10, 100, 1000], 'gamma': [0.001, 0.0001], 'kernel': [b'rbf']},\n",
      " ]\n",
      "svr = SVC()\n",
      "clf = GridSearchCV(svr, parameters)\n",
      "clf.fit(data_pca, target)"
     ],
     "language": "python",
     "metadata": {},
     "outputs": []
    },
    {
     "cell_type": "code",
     "collapsed": false,
     "input": [
      "print(clf.grid_scores_)\n",
      "print(clf.best_estimator_)"
     ],
     "language": "python",
     "metadata": {},
     "outputs": []
    },
    {
     "cell_type": "markdown",
     "metadata": {},
     "source": [
      "### Now predict on test data"
     ]
    },
    {
     "cell_type": "code",
     "collapsed": false,
     "input": [
      "cwd = '/home/simon/Programming/data/kaggle/digit-recognizer'\n",
      "train_data = pd.read_csv(cwd + '/data/train.csv')\n",
      "test_data = pd.read_csv(cwd + '/data/test.csv')\n",
      "\n",
      "train_target = train_data.loc[:, 'label']\n",
      "train_data = train_data.loc[:, 'pixel0':]\n",
      "\n",
      "cutoff = 100\n",
      "train_data = train_data.applymap(lambda x: (x < cutoff))\n",
      "test_data = test_data.applymap(lambda x: (x < cutoff))\n",
      "\n",
      "print('Train data = {0}'.format(train_data.shape))\n",
      "print('Train target = {0}'.format(train_target.shape))\n",
      "print('Test data = {0}'.format(test_data.shape))"
     ],
     "language": "python",
     "metadata": {},
     "outputs": [
      {
       "output_type": "stream",
       "stream": "stdout",
       "text": [
        "Train data = (42000, 784)\n",
        "Train target = (42000,)\n",
        "Test data = (28000, 784)\n"
       ]
      }
     ],
     "prompt_number": 3
    },
    {
     "cell_type": "code",
     "collapsed": false,
     "input": [
      "n_pca = 30\n",
      "\n",
      "from sklearn.decomposition import RandomizedPCA\n",
      "pca = RandomizedPCA(n_pca)\n",
      "pca.fit(train_data)\n",
      "\n",
      "train_data_pca = pca.transform(train_data)\n",
      "test_data_pca = pca.transform(test_data)\n",
      "\n",
      "print('Train data after pca = {0}'.format(train_data_pca.shape))\n",
      "print('Test data after pca = {0}'.format(test_data_pca.shape))"
     ],
     "language": "python",
     "metadata": {},
     "outputs": [],
     "prompt_number": 4
    },
    {
     "cell_type": "code",
     "collapsed": false,
     "input": [
      "from sklearn.svm import SVC\n",
      "clf = SVC()\n",
      "clf.fit(train_data_pca, train_target)\n",
      "\n",
      "predictions = clf.predict(test_data_pca)\n",
      "print(predictions.shape)"
     ],
     "language": "python",
     "metadata": {},
     "outputs": [],
     "prompt_number": 6
    },
    {
     "cell_type": "code",
     "collapsed": false,
     "input": [
      "n_digits = 16\n",
      "\n",
      "digits = test_data.values[:n_digits]\n",
      "n = np.sqrt(test_data.values[0].size)\n",
      "digits = np.reshape(digits, (n_digits, n, n))\n",
      "\n",
      "f, axs = plt.subplots(4, 4, figsize=(10, 10))\n",
      "for i in range(4):\n",
      "    for j in range(4):\n",
      "        n = i*4 + j\n",
      "        axs[i, j].matshow(digits[n], cmap=plt.cm.gray)\n",
      "        axs[i, j].set_title(predictions[n])"
     ],
     "language": "python",
     "metadata": {},
     "outputs": [
      {
       "metadata": {},
       "output_type": "display_data",
       "png": "[encoded data removed]",
       "text": [
        "<matplotlib.figure.Figure at 0x7f15da6c0ed0>"
       ]
      }
     ],
     "prompt_number": 13
    },
    {
     "cell_type": "code",
     "collapsed": false,
     "input": [
      "res = pd.DataFrame(predictions)\n",
      "res.index += 1\n",
      "res.columns = ['Label']\n",
      "res.to_csv('./predictions/svm.csv', index_label='ImageId')"
     ],
     "language": "python",
     "metadata": {},
     "outputs": [],
     "prompt_number": 17
    },
    {
     "cell_type": "code",
     "collapsed": false,
     "input": [],
     "language": "python",
     "metadata": {},
     "outputs": []
    }
   ],
   "metadata": {}
  }
 ]
}