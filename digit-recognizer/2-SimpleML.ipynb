{
 "metadata": {
  "name": "",
  "signature": "sha256:45a747a168554b16b20355f998a8e73c9d6101d5129105afaaec16c4bca6b6c3"
 },
 "nbformat": 3,
 "nbformat_minor": 0,
 "worksheets": [
  {
   "cells": [
    {
     "cell_type": "code",
     "collapsed": false,
     "input": [
      "from __future__ import division\n",
      "from __future__ import print_function\n",
      "from __future__ import unicode_literals\n",
      "\n",
      "import sys\n",
      "from datetime import datetime\n",
      "\n",
      "import numpy as np\n",
      "import pandas as pd\n",
      "\n",
      "%matplotlib inline\n",
      "import matplotlib.pyplot as plt\n",
      "\n",
      "import IPython\n",
      "from IPython import display\n",
      "\n",
      "print('Python version {0}'.format(sys.version))\n",
      "print('IPython version {0}'.format(IPython.__version__))\n",
      "print('Numpy version {0}'.format(np.__version__))\n",
      "print('Pandas version {0}'.format(pd.__version__))\n",
      "print('Time = {0}'.format(datetime.now()))"
     ],
     "language": "python",
     "metadata": {},
     "outputs": [
      {
       "output_type": "stream",
       "stream": "stdout",
       "text": [
        "Python version 2.7.6 (default, Mar 22 2014, 22:59:56) \n",
        "[GCC 4.8.2]\n",
        "IPython version 2.2.0\n",
        "Numpy version 1.9.1\n",
        "Pandas version 0.15.1\n",
        "Time = 2014-11-18 20:05:33.585556\n"
       ]
      }
     ],
     "prompt_number": 1
    },
    {
     "cell_type": "code",
     "collapsed": false,
     "input": [
      "cwd = '/home/simon/Programming/data/kaggle/digit-recognizer'\n",
      "train_data_all = pd.read_csv(cwd + '/data/train.csv')\n",
      "print('Training data = {0}'.format(train_data_all.shape))"
     ],
     "language": "python",
     "metadata": {},
     "outputs": [
      {
       "output_type": "stream",
       "stream": "stdout",
       "text": [
        "Training data = (42000, 785)\n"
       ]
      }
     ],
     "prompt_number": 2
    },
    {
     "cell_type": "code",
     "collapsed": false,
     "input": [
      "cutoff = 100\n",
      "\n",
      "target = train_data_all.loc[:, 'label'].values.ravel()\n",
      "data = train_data_all.loc[:, 'pixel0':]\n",
      "data = data.applymap(lambda x: (x < cutoff))\n",
      "data = data.values\n",
      "\n",
      "print(data.shape)\n",
      "print(target.shape)"
     ],
     "language": "python",
     "metadata": {},
     "outputs": [],
     "prompt_number": 3
    },
    {
     "cell_type": "code",
     "collapsed": false,
     "input": [
      "print(data.shape)\n",
      "print(target.shape)"
     ],
     "language": "python",
     "metadata": {},
     "outputs": [
      {
       "output_type": "stream",
       "stream": "stdout",
       "text": [
        "(42000, 784)\n",
        "(42000,)\n"
       ]
      }
     ],
     "prompt_number": 4
    },
    {
     "cell_type": "code",
     "collapsed": false,
     "input": [
      "from sklearn.naive_bayes import GaussianNB\n",
      "from sklearn.tree import DecisionTreeClassifier\n",
      "from sklearn.ensemble import RandomForestClassifier\n",
      "from sklearn.neighbors import KNeighborsClassifier\n",
      "from sklearn.svm import SVC\n",
      "\n",
      "from sklearn.cross_validation import train_test_split\n",
      "\n",
      "from sklearn.metrics import accuracy_score, classification_report, confusion_matrix"
     ],
     "language": "python",
     "metadata": {},
     "outputs": [],
     "prompt_number": 5
    },
    {
     "cell_type": "code",
     "collapsed": false,
     "input": [
      "x_train, x_test, y_train, y_test = train_test_split(data, target)\n",
      "print('Training data = {0}, test data = {1}'.format(x_train.shape, x_test.shape))\n",
      "print('Training data = {0}, test data = {1}'.format(y_train.shape, y_test.shape))"
     ],
     "language": "python",
     "metadata": {},
     "outputs": [],
     "prompt_number": 6
    },
    {
     "cell_type": "code",
     "collapsed": false,
     "input": [
      "names = [\n",
      "    'Gaussian Naive Bayes', \n",
      "    'Decision Tree', \n",
      "    'Random Forest', \n",
      "    'K Nearest Neighbours', \n",
      "    'Support Vector Machines'\n",
      "]\n",
      "clfs = [\n",
      "    GaussianNB(), \n",
      "    DecisionTreeClassifier(max_depth=5), \n",
      "    RandomForestClassifier(max_depth=5, n_estimators=10, max_features=1),\n",
      "    KNeighborsClassifier(3),\n",
      "    SVC()]\n",
      "\n",
      "for name, clf in zip(names, clfs):\n",
      "    clf.fit(x_train, y_train)    \n",
      "    score = clf.score(x_test, y_test)\n",
      "    print('{0} = {1:.1%}'.format(name, score))"
     ],
     "language": "python",
     "metadata": {},
     "outputs": [
      {
       "output_type": "stream",
       "stream": "stdout",
       "text": [
        "Gaussian Naive Bayes = 0.553619047619\n",
        "Decision Tree = 0.647238095238"
       ]
      },
      {
       "output_type": "stream",
       "stream": "stdout",
       "text": [
        "\n",
        "Random Forest = 0.628"
       ]
      },
      {
       "output_type": "stream",
       "stream": "stdout",
       "text": [
        "\n",
        "K Nearest Neighbours = 0.956952380952"
       ]
      },
      {
       "output_type": "stream",
       "stream": "stdout",
       "text": [
        "\n",
        "Support Vector Machines = 0.933428571429"
       ]
      },
      {
       "output_type": "stream",
       "stream": "stdout",
       "text": [
        "\n"
       ]
      }
     ],
     "prompt_number": 8
    },
    {
     "cell_type": "code",
     "collapsed": false,
     "input": [
      "for i in range(1, 10, 2):\n",
      "    clf = KNeighborsClassifier(i)\n",
      "    clf.fit(x_train, y_train)\n",
      "    print('{0} = {1:.1%}'.format(i, clf.score(x_test, y_test)))"
     ],
     "language": "python",
     "metadata": {},
     "outputs": [
      {
       "output_type": "stream",
       "stream": "stdout",
       "text": [
        "1 = 95.5%\n",
        "3 = 95.7%"
       ]
      },
      {
       "output_type": "stream",
       "stream": "stdout",
       "text": [
        "\n",
        "5 = 95.7%"
       ]
      },
      {
       "output_type": "stream",
       "stream": "stdout",
       "text": [
        "\n",
        "7 = 95.5%"
       ]
      },
      {
       "output_type": "stream",
       "stream": "stdout",
       "text": [
        "\n",
        "9 = 95.3%"
       ]
      },
      {
       "output_type": "stream",
       "stream": "stdout",
       "text": [
        "\n"
       ]
      }
     ],
     "prompt_number": 9
    },
    {
     "cell_type": "code",
     "collapsed": false,
     "input": [],
     "language": "python",
     "metadata": {},
     "outputs": []
    }
   ],
   "metadata": {}
  }
 ]
}