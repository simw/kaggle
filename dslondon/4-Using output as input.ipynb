{
 "metadata": {
  "name": "",
  "signature": "sha256:2744d3590a5db3832750979d3391f0a48ec11d5cf4618f2e7f5071126c15449a"
 },
 "nbformat": 3,
 "nbformat_minor": 0,
 "worksheets": [
  {
   "cells": [
    {
     "cell_type": "code",
     "collapsed": false,
     "input": [
      "from __future__ import division\n",
      "from __future__ import print_function\n",
      "from __future__ import unicode_literals\n",
      "\n",
      "import sys\n",
      "from datetime import datetime\n",
      "\n",
      "import numpy as np\n",
      "import pandas as pd\n",
      "\n",
      "%matplotlib inline\n",
      "import matplotlib.pyplot as plt\n",
      "\n",
      "import IPython\n",
      "from IPython import display\n",
      "\n",
      "print('Python version {0}'.format(sys.version))\n",
      "print('IPython version {0}'.format(IPython.__version__))\n",
      "print('Pandas version {0}'.format(pd.__version__))\n",
      "print('Time = {0}'.format(datetime.now()))"
     ],
     "language": "python",
     "metadata": {},
     "outputs": [
      {
       "output_type": "stream",
       "stream": "stdout",
       "text": [
        "Python version 2.7.6 (default, Mar 22 2014, 22:59:56) \n",
        "[GCC 4.8.2]\n",
        "IPython version 2.2.0\n",
        "Pandas version 0.14.1\n",
        "Time = 2014-11-13 13:06:40.547698\n"
       ]
      }
     ],
     "prompt_number": 1
    },
    {
     "cell_type": "code",
     "collapsed": false,
     "input": [
      "cwd = '/home/simon/Programming/data/sklearn/kaggle-dslondon'\n",
      "\n",
      "train_data = pd.read_csv(cwd + '/data/train.csv', header=None)\n",
      "train_target = pd.read_csv(cwd + '/data/trainLabels.csv', header=None)\n",
      "test_data = pd.read_csv(cwd + '/data/test.csv', header=None)\n",
      "\n",
      "print('Training rows = {0}'.format(train_data.count()[0]))\n",
      "print('Target rows for training set = {0}'.format(train_target.count()[0]))\n",
      "print('Test rows = {0}'.format(test_data.count()[0]))"
     ],
     "language": "python",
     "metadata": {},
     "outputs": [
      {
       "output_type": "stream",
       "stream": "stdout",
       "text": [
        "Training rows = 1000\n",
        "Target rows for training set = 1000\n",
        "Test rows = 9000\n"
       ]
      }
     ],
     "prompt_number": 2
    },
    {
     "cell_type": "code",
     "collapsed": false,
     "input": [
      "from sklearn.naive_bayes import GaussianNB\n",
      "from sklearn.tree import DecisionTreeClassifier\n",
      "from sklearn.ensemble import RandomForestClassifier\n",
      "from sklearn.neighbors import KNeighborsClassifier\n",
      "from sklearn.svm import SVC\n",
      "\n",
      "from sklearn.cross_validation import cross_val_score\n",
      "\n",
      "from sklearn.decomposition import PCA"
     ],
     "language": "python",
     "metadata": {},
     "outputs": [],
     "prompt_number": 6
    },
    {
     "cell_type": "code",
     "collapsed": false,
     "input": [
      "clf = SVC()\n",
      "scores = cross_val_score(clf, train_data.values, train_target.values.ravel())\n",
      "print(np.mean(scores), scores)\n",
      "\n",
      "clf.fit(train_data.values, train_target.values.ravel())\n",
      "predicted = clf.predict(test_data)"
     ],
     "language": "python",
     "metadata": {},
     "outputs": [
      {
       "output_type": "stream",
       "stream": "stdout",
       "text": [
        "0.908003812195 [ 0.90419162  0.92792793  0.89189189]\n"
       ]
      }
     ],
     "prompt_number": 8
    },
    {
     "cell_type": "code",
     "collapsed": false,
     "input": [
      "new_train_data = np.concatenate([train_data.values, test_data], axis=0)\n",
      "new_train_target = np.concatenate([train_target.values.ravel(), predicted], axis=0)\n",
      "\n",
      "print(new_train_data.shape)\n",
      "print(new_train_target.shape)\n",
      "\n",
      "clf = SVC()\n",
      "scores = cross_val_score(clf, train_data.values, train_target.values.ravel())\n",
      "scores2 = cross_val_score(clf, new_train_data, new_train_target)\n",
      "print(np.mean(scores), scores)\n",
      "print(np.mean(scores2), scores2)"
     ],
     "language": "python",
     "metadata": {},
     "outputs": [
      {
       "output_type": "stream",
       "stream": "stdout",
       "text": [
        "(10000, 40)\n",
        "(10000,)\n",
        "0.908003812195"
       ]
      },
      {
       "output_type": "stream",
       "stream": "stdout",
       "text": [
        " [ 0.90419162  0.92792793  0.89189189]\n",
        "0.968600789293 [ 0.96070786  0.97059706  0.97449745]\n"
       ]
      }
     ],
     "prompt_number": 22
    },
    {
     "cell_type": "code",
     "collapsed": false,
     "input": [
      "clf.fit(new_train_data, new_train_target)\n",
      "predicted = clf.predict(test_data)\n",
      "\n",
      "res = pd.DataFrame(predicted)\n",
      "res.index += 1\n",
      "res.columns = ['Solution']\n",
      "res.to_csv('predicted2.csv', index_label='Id')"
     ],
     "language": "python",
     "metadata": {},
     "outputs": [],
     "prompt_number": 24
    },
    {
     "cell_type": "code",
     "collapsed": false,
     "input": [],
     "language": "python",
     "metadata": {},
     "outputs": []
    }
   ],
   "metadata": {}
  }
 ]
}