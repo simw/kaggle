{
 "metadata": {
  "name": "",
  "signature": "sha256:e125e323bd238f851b89ebe297a72c03cfbd9a943fba2d9c02de038c9ed05892"
 },
 "nbformat": 3,
 "nbformat_minor": 0,
 "worksheets": [
  {
   "cells": [
    {
     "cell_type": "code",
     "collapsed": false,
     "input": [
      "from __future__ import division\n",
      "from __future__ import print_function\n",
      "from __future__ import unicode_literals\n",
      "\n",
      "import sys\n",
      "from datetime import datetime\n",
      "\n",
      "import numpy as np\n",
      "import pandas as pd\n",
      "\n",
      "%matplotlib inline\n",
      "import matplotlib.pyplot as plt\n",
      "\n",
      "import IPython\n",
      "from IPython import display\n",
      "\n",
      "print('Python version {0}'.format(sys.version))\n",
      "print('IPython version {0}'.format(IPython.__version__))\n",
      "print('Pandas version {0}'.format(pd.__version__))\n",
      "print('Time = {0}'.format(datetime.now()))"
     ],
     "language": "python",
     "metadata": {},
     "outputs": [
      {
       "output_type": "stream",
       "stream": "stdout",
       "text": [
        "Python version 2.7.6 (default, Mar 22 2014, 22:59:56) \n",
        "[GCC 4.8.2]\n",
        "IPython version 2.2.0\n",
        "Pandas version 0.14.1\n",
        "Time = 2014-11-13 12:23:24.535049\n"
       ]
      }
     ],
     "prompt_number": 1
    },
    {
     "cell_type": "markdown",
     "metadata": {},
     "source": [
      "### Import data"
     ]
    },
    {
     "cell_type": "code",
     "collapsed": false,
     "input": [
      "cwd = '/home/simon/Programming/data/sklearn/kaggle-dslondon'\n",
      "\n",
      "train_data = pd.read_csv(cwd + '/data/train.csv', header=None)\n",
      "train_target = pd.read_csv(cwd + '/data/trainLabels.csv', header=None)\n",
      "test_data = pd.read_csv(cwd + '/data/test.csv', header=None)\n",
      "\n",
      "print('Training rows = {0}'.format(train_data.count()[0]))\n",
      "print('Target rows for training set = {0}'.format(train_target.count()[0]))\n",
      "print('Test rows = {0}'.format(test_data.count()[0]))"
     ],
     "language": "python",
     "metadata": {},
     "outputs": [
      {
       "output_type": "stream",
       "stream": "stdout",
       "text": [
        "Training rows = 1000\n",
        "Target rows for training set = 1000\n",
        "Test rows = 9000\n"
       ]
      }
     ],
     "prompt_number": 2
    },
    {
     "cell_type": "markdown",
     "metadata": {},
     "source": [
      "### Do cross validation"
     ]
    },
    {
     "cell_type": "code",
     "collapsed": false,
     "input": [
      "from sklearn.naive_bayes import GaussianNB\n",
      "from sklearn.tree import DecisionTreeClassifier\n",
      "from sklearn.ensemble import RandomForestClassifier\n",
      "from sklearn.neighbors import KNeighborsClassifier\n",
      "from sklearn.svm import SVC\n",
      "\n",
      "from sklearn.cross_validation import cross_val_score\n",
      "\n",
      "from sklearn.decomposition import PCA"
     ],
     "language": "python",
     "metadata": {},
     "outputs": [],
     "prompt_number": 33
    },
    {
     "cell_type": "markdown",
     "metadata": {},
     "source": [
      "Test different algorithms"
     ]
    },
    {
     "cell_type": "code",
     "collapsed": false,
     "input": [
      "names = ['Gaussian Naive Bayes', 'Decision Tree', 'Random Forest', 'K Nearest Neighbours', \n",
      "         'SVM - Linear', 'SVM - Poly', 'SVM - Rbf']\n",
      "clfs = [\n",
      "    GaussianNB(), \n",
      "    DecisionTreeClassifier(max_depth=5), \n",
      "    RandomForestClassifier(max_depth=5, n_estimators=10, max_features=1),\n",
      "    KNeighborsClassifier(6),\n",
      "    SVC(kernel=b'linear'),\n",
      "    SVC(kernel=b'poly'),\n",
      "    SVC(kernel=b'rbf')]\n",
      "\n",
      "for name, clf in zip(names, clfs):\n",
      "    scores = cross_val_score(clf, train_data.values, train_target.values.ravel(), cv=5)\n",
      "    print('{0} = {1:.1%}, scores {2}'.format(name, np.mean(scores), scores))"
     ],
     "language": "python",
     "metadata": {},
     "outputs": [
      {
       "output_type": "stream",
       "stream": "stdout",
       "text": [
        "Gaussian Naive Bayes = 81.3%, scores [ 0.815  0.82   0.83   0.79   0.81 ]\n",
        "Decision Tree = 78.6%, scores [ 0.755  0.81   0.79   0.805  0.77 ]"
       ]
      },
      {
       "output_type": "stream",
       "stream": "stdout",
       "text": [
        "\n",
        "Random Forest = 72.4%, scores [ 0.75   0.73   0.735  0.67   0.735]"
       ]
      },
      {
       "output_type": "stream",
       "stream": "stdout",
       "text": [
        "\n",
        "K Nearest Neighbours = 90.1%, scores [ 0.94   0.89   0.91   0.86   0.905]"
       ]
      },
      {
       "output_type": "stream",
       "stream": "stdout",
       "text": [
        "\n",
        "SVM - Linear = 81.6%, scores [ 0.82   0.855  0.815  0.79   0.8  ]"
       ]
      },
      {
       "output_type": "stream",
       "stream": "stdout",
       "text": [
        "\n",
        "SVM - Poly = 88.7%, scores [ 0.9    0.9    0.89   0.86   0.885]"
       ]
      },
      {
       "output_type": "stream",
       "stream": "stdout",
       "text": [
        "\n",
        "SVM - Rbf = 91.2%, scores [ 0.92   0.905  0.935  0.9    0.9  ]"
       ]
      },
      {
       "output_type": "stream",
       "stream": "stdout",
       "text": [
        "\n"
       ]
      }
     ],
     "prompt_number": 32
    },
    {
     "cell_type": "markdown",
     "metadata": {},
     "source": [
      "Test different dimensions in PCA"
     ]
    },
    {
     "cell_type": "code",
     "collapsed": false,
     "input": [
      "def run_pca(n):\n",
      "    pca = PCA(n_components=n)\n",
      "    proj = pca.fit_transform(train_data.values)\n",
      "    clf = SVC()\n",
      "    return np.mean(cross_val_score(clf, proj, train_target.values.ravel()))\n",
      "\n",
      "xs = range(2,30,1)\n",
      "ys = [run_pca(n) for n in xs]\n",
      "f, (axs1, axs2) = plt.subplots(1, 2)\n",
      "\n",
      "axs1.plot(xs, ys)\n",
      "axs2.plot(xs, ys)\n",
      "axs2.set_ylim([0.85, 0.95])"
     ],
     "language": "python",
     "metadata": {},
     "outputs": [
      {
       "metadata": {},
       "output_type": "pyout",
       "prompt_number": 24,
       "text": [
        "(0.85, 0.95)"
       ]
      },
      {
       "metadata": {},
       "output_type": "display_data",
       "png": "[encoded data removed]",
       "text": [
        "<matplotlib.figure.Figure at 0x7f760f581910>"
       ]
      }
     ],
     "prompt_number": 24
    },
    {
     "cell_type": "markdown",
     "metadata": {},
     "source": [
      "Test different gammas in rbf SVC"
     ]
    },
    {
     "cell_type": "code",
     "collapsed": false,
     "input": [
      "def run_svc(g):\n",
      "    clf = SVC(gamma=g)\n",
      "    return np.mean(cross_val_score(clf, train_data.values, train_target.values.ravel()))\n",
      "\n",
      "xs = np.linspace(0.001,0.06, 20)\n",
      "ys = [run_svc(n) for n in xs]\n",
      "\n",
      "print(1/train_data.values.shape[1])\n",
      "print(run_svc(0.02))\n",
      "print(run_svc(0.025))\n",
      "plt.plot(xs, ys)"
     ],
     "language": "python",
     "metadata": {},
     "outputs": [
      {
       "output_type": "stream",
       "stream": "stdout",
       "text": [
        "0.025\n",
        "0.908003812195"
       ]
      },
      {
       "output_type": "stream",
       "stream": "stdout",
       "text": [
        "\n",
        "0.908003812195"
       ]
      },
      {
       "output_type": "stream",
       "stream": "stdout",
       "text": [
        "\n"
       ]
      },
      {
       "metadata": {},
       "output_type": "pyout",
       "prompt_number": 47,
       "text": [
        "[<matplotlib.lines.Line2D at 0x7f760ee6c250>]"
       ]
      },
      {
       "metadata": {},
       "output_type": "display_data",
       "png": "[encoded data removed]",
       "text": [
        "<matplotlib.figure.Figure at 0x7f760ed08a10>"
       ]
      }
     ],
     "prompt_number": 47
    },
    {
     "cell_type": "code",
     "collapsed": false,
     "input": [],
     "language": "python",
     "metadata": {},
     "outputs": []
    }
   ],
   "metadata": {}
  }
 ]
}