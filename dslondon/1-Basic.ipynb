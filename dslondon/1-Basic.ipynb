{
 "metadata": {
  "name": "",
  "signature": "sha256:aa3302bc828bb74e2a4b28e13b575c9b454b6bd177ec2b07e077c910407c5fcd"
 },
 "nbformat": 3,
 "nbformat_minor": 0,
 "worksheets": [
  {
   "cells": [
    {
     "cell_type": "markdown",
     "metadata": {},
     "source": [
      "Standard preamble"
     ]
    },
    {
     "cell_type": "code",
     "collapsed": false,
     "input": [
      "from __future__ import division\n",
      "from __future__ import print_function\n",
      "from __future__ import unicode_literals\n",
      "\n",
      "import sys\n",
      "from datetime import datetime\n",
      "\n",
      "import numpy as np\n",
      "import pandas as pd\n",
      "\n",
      "%matplotlib inline\n",
      "import matplotlib.pyplot as plt\n",
      "\n",
      "import IPython\n",
      "from IPython import display\n",
      "\n",
      "print('Python version {0}'.format(sys.version))\n",
      "print('IPython version {0}'.format(IPython.__version__))\n",
      "print('Pandas version {0}'.format(pd.__version__))\n",
      "print('Time = {0}'.format(datetime.now()))"
     ],
     "language": "python",
     "metadata": {},
     "outputs": [
      {
       "output_type": "stream",
       "stream": "stdout",
       "text": [
        "Python version 2.7.6 (default, Mar 22 2014, 22:59:56) \n",
        "[GCC 4.8.2]\n",
        "IPython version 2.2.0\n",
        "Pandas version 0.15.1\n",
        "Time = 2014-11-13 20:00:11.975754\n"
       ]
      }
     ],
     "prompt_number": 2
    },
    {
     "cell_type": "markdown",
     "metadata": {},
     "source": [
      "# Import data"
     ]
    },
    {
     "cell_type": "code",
     "collapsed": false,
     "input": [
      "cwd = '/home/simon/Programming/data/sklearn/kaggle-dslondon'\n",
      "\n",
      "train_data = pd.read_csv(cwd + '/data/train.csv', header=None)\n",
      "train_target = pd.read_csv(cwd + '/data/trainLabels.csv', header=None)\n",
      "test_data = pd.read_csv(cwd + '/data/test.csv', header=None)\n",
      "\n",
      "print('Training rows = {0}'.format(train_data.count()[0]))\n",
      "print('Target rows for training set = {0}'.format(train_target.count()[0]))\n",
      "print('Test rows = {0}'.format(test_data.count()[0]))"
     ],
     "language": "python",
     "metadata": {},
     "outputs": [
      {
       "output_type": "stream",
       "stream": "stdout",
       "text": [
        "Training rows = 1000\n",
        "Target rows for training set = 1000\n",
        "Test rows = 9000\n"
       ]
      }
     ],
     "prompt_number": 34
    },
    {
     "cell_type": "code",
     "collapsed": false,
     "input": [
      "train_target.loc[5,0] = 2\n",
      "train_target.loc[10,0] = 5"
     ],
     "language": "python",
     "metadata": {},
     "outputs": [],
     "prompt_number": 51
    },
    {
     "cell_type": "markdown",
     "metadata": {},
     "source": [
      "# Simplest fitting"
     ]
    },
    {
     "cell_type": "code",
     "collapsed": false,
     "input": [
      "from sklearn.naive_bayes import GaussianNB\n",
      "from sklearn.tree import DecisionTreeClassifier\n",
      "from sklearn.ensemble import RandomForestClassifier\n",
      "from sklearn.neighbors import KNeighborsClassifier\n",
      "from sklearn.svm import SVC\n",
      "\n",
      "from sklearn.cross_validation import train_test_split"
     ],
     "language": "python",
     "metadata": {},
     "outputs": [],
     "prompt_number": 52
    },
    {
     "cell_type": "markdown",
     "metadata": {},
     "source": [
      "Need to convert pandas dataframe -> numpy arrays for use with sklearn.\n",
      "\n",
      "Note use of a) .values to convert to numpy array, b) ravel to convert 2D array / column vector into a 1D array."
     ]
    },
    {
     "cell_type": "code",
     "collapsed": false,
     "input": [
      "print(type(train_target))\n",
      "print(type(train_target.values))\n",
      "print(train_target.values.shape)\n",
      "type(train_target.values.ravel())\n",
      "train_target.values.ravel().shape"
     ],
     "language": "python",
     "metadata": {},
     "outputs": [
      {
       "output_type": "stream",
       "stream": "stdout",
       "text": [
        "<class 'pandas.core.frame.DataFrame'>\n",
        "<type 'numpy.ndarray'>\n",
        "(1000, 1)\n"
       ]
      },
      {
       "metadata": {},
       "output_type": "pyout",
       "prompt_number": 53,
       "text": [
        "(1000,)"
       ]
      }
     ],
     "prompt_number": 53
    },
    {
     "cell_type": "code",
     "collapsed": false,
     "input": [
      "x_train, x_test, y_train, y_test = train_test_split(train_data.values, train_target.values.ravel())\n",
      "\n",
      "print('Training data = {0}, test data = {1}'.format(x_train.shape, x_test.shape))\n",
      "print('Training data = {0}, test data = {1}'.format(y_train.shape, y_test.shape))"
     ],
     "language": "python",
     "metadata": {},
     "outputs": [
      {
       "output_type": "stream",
       "stream": "stdout",
       "text": [
        "Training data = (750, 40), test data = (250, 40)\n",
        "Training data = (750,), test data = (250,)\n"
       ]
      }
     ],
     "prompt_number": 55
    },
    {
     "cell_type": "markdown",
     "metadata": {},
     "source": [
      "### Single classifier example"
     ]
    },
    {
     "cell_type": "code",
     "collapsed": false,
     "input": [
      "clf = GaussianNB()\n",
      "clf.fit(x_train, y_train)\n",
      "predicted = clf.predict(x_test)\n",
      "actual = y_test\n",
      "\n",
      "print('Gaussian Naive Bayes: {0} / {1} = {2:.1%}'.format(\n",
      "    (predicted == actual).sum(), actual.shape[0], (predicted == actual).sum() / actual.shape[0])\n",
      ")"
     ],
     "language": "python",
     "metadata": {},
     "outputs": [
      {
       "output_type": "stream",
       "stream": "stdout",
       "text": [
        "Gaussian Naive Bayes: 206 / 250 = 82.4%\n"
       ]
      }
     ],
     "prompt_number": 56
    },
    {
     "cell_type": "code",
     "collapsed": false,
     "input": [
      "from sklearn import metrics\n",
      "print('Summary for Gaussian Naive Bayes:')\n",
      "print('')\n",
      "print(metrics.classification_report(actual, predicted))"
     ],
     "language": "python",
     "metadata": {},
     "outputs": [
      {
       "output_type": "stream",
       "stream": "stdout",
       "text": [
        "Summary for Gaussian Naive Bayes:\n",
        "\n",
        "             precision    recall  f1-score   support\n",
        "\n",
        "          0       0.84      0.82      0.83       120\n",
        "          1       0.84      0.86      0.85       130\n",
        "\n",
        "avg / total       0.84      0.84      0.84       250\n",
        "\n"
       ]
      }
     ],
     "prompt_number": 31
    },
    {
     "cell_type": "code",
     "collapsed": false,
     "input": [
      "for k in range(1, 10):\n",
      "    clf = KNeighborsClassifier(k)\n",
      "    clf.fit(x_train, y_train)\n",
      "    print('k = {0}: {1:.1%}'.format(k, clf.score(x_test, y_test)))"
     ],
     "language": "python",
     "metadata": {},
     "outputs": [
      {
       "output_type": "stream",
       "stream": "stdout",
       "text": [
        "k = 1: 92.0%\n",
        "k = 2: 89.6%\n",
        "k = 3: 91.2%\n",
        "k = 4: 89.6%\n",
        "k = 5: 90.4%"
       ]
      },
      {
       "output_type": "stream",
       "stream": "stdout",
       "text": [
        "\n",
        "k = 6: 90.0%\n",
        "k = 7: 91.2%\n",
        "k = 8: 91.2%\n",
        "k = 9: 90.0%"
       ]
      },
      {
       "output_type": "stream",
       "stream": "stdout",
       "text": [
        "\n"
       ]
      }
     ],
     "prompt_number": 32
    },
    {
     "cell_type": "markdown",
     "metadata": {},
     "source": [
      "### Multiple classifiers"
     ]
    },
    {
     "cell_type": "code",
     "collapsed": false,
     "input": [
      "names = ['Gaussian Naive Bayes', 'Decision Tree', 'Random Forest', 'K Nearest Neighbours', 'Support Vector Machines']\n",
      "clfs = [\n",
      "    GaussianNB(), \n",
      "    DecisionTreeClassifier(max_depth=5), \n",
      "    RandomForestClassifier(max_depth=5, n_estimators=10, max_features=1),\n",
      "    KNeighborsClassifier(3),\n",
      "    SVC()]\n",
      "\n",
      "for name, clf in zip(names, clfs):\n",
      "    clf.fit(x_train, y_train)\n",
      "    \n",
      "    score = clf.score(x_test, y_test)\n",
      "    \n",
      "    predicted = clf.predict(x_test)\n",
      "    actual = y_test\n",
      "    correct = (predicted == actual).sum()\n",
      "    total = y_test.shape[0]\n",
      "\n",
      "    print('{0} = {1} / {2} = {3:.1%} (clf.score function = {4:.1%})'.format(\n",
      "        name, correct, total, float(correct)/total, score\n",
      "    ))"
     ],
     "language": "python",
     "metadata": {},
     "outputs": [
      {
       "output_type": "stream",
       "stream": "stdout",
       "text": [
        "Gaussian Naive Bayes = 210 / 250 = 84.0% (clf.score function = 84.0%)\n",
        "Decision Tree = 204 / 250 = 81.6% (clf.score function = 81.6%)\n",
        "Random Forest = 181 / 250 = 72.4% (clf.score function = 72.4%)\n",
        "K Nearest Neighbours = 228 / 250 = 91.2% (clf.score function = 91.2%)"
       ]
      },
      {
       "output_type": "stream",
       "stream": "stdout",
       "text": [
        "\n",
        "Support Vector Machines = 229 / 250 = 91.6% (clf.score function = 91.6%)"
       ]
      },
      {
       "output_type": "stream",
       "stream": "stdout",
       "text": [
        "\n"
       ]
      }
     ],
     "prompt_number": 33
    },
    {
     "cell_type": "markdown",
     "metadata": {},
     "source": [
      "Use the best classifier (SVC) on the actual test set"
     ]
    },
    {
     "cell_type": "code",
     "collapsed": false,
     "input": [
      "clf = SVC()\n",
      "clf.fit(train_data.values, train_target.values.ravel())\n",
      "predicted = clf.predict(test_data)"
     ],
     "language": "python",
     "metadata": {},
     "outputs": [],
     "prompt_number": 91
    },
    {
     "cell_type": "code",
     "collapsed": false,
     "input": [
      "res = pd.DataFrame(predicted)\n",
      "res.index += 1\n",
      "res.columns = ['Solution']\n",
      "res.to_csv('predicted.csv', index_label='Id')"
     ],
     "language": "python",
     "metadata": {},
     "outputs": [],
     "prompt_number": 108
    }
   ],
   "metadata": {}
  }
 ]
}